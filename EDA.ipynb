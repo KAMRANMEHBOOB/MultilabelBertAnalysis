{
 "cells": [
  {
   "cell_type": "code",
   "execution_count": 3,
   "metadata": {},
   "outputs": [
    {
     "data": {
      "text/html": [
       "<div>\n",
       "<style scoped>\n",
       "    .dataframe tbody tr th:only-of-type {\n",
       "        vertical-align: middle;\n",
       "    }\n",
       "\n",
       "    .dataframe tbody tr th {\n",
       "        vertical-align: top;\n",
       "    }\n",
       "\n",
       "    .dataframe thead th {\n",
       "        text-align: right;\n",
       "    }\n",
       "</style>\n",
       "<table border=\"1\" class=\"dataframe\">\n",
       "  <thead>\n",
       "    <tr style=\"text-align: right;\">\n",
       "      <th></th>\n",
       "      <th>Unnamed: 0</th>\n",
       "      <th>Unnamed: 0.1</th>\n",
       "      <th>tconst</th>\n",
       "      <th>title</th>\n",
       "      <th>release_year</th>\n",
       "      <th>release_date</th>\n",
       "      <th>runtime</th>\n",
       "      <th>plot_short</th>\n",
       "      <th>plot_long</th>\n",
       "      <th>imdb_rating</th>\n",
       "      <th>num_imdb_votes</th>\n",
       "      <th>num_user_reviews</th>\n",
       "      <th>num_critic_reviews</th>\n",
       "      <th>genre</th>\n",
       "    </tr>\n",
       "  </thead>\n",
       "  <tbody>\n",
       "    <tr>\n",
       "      <th>0</th>\n",
       "      <td>0</td>\n",
       "      <td>0</td>\n",
       "      <td>tt0010323</td>\n",
       "      <td>Das Cabinet des Dr. Caligari</td>\n",
       "      <td>1920</td>\n",
       "      <td>27 February 1920</td>\n",
       "      <td>67</td>\n",
       "      <td>Hypnotist Dr. Caligari uses a somnambulist, Ce...</td>\n",
       "      <td>Francis, a young man, recalls in his memory th...</td>\n",
       "      <td>8.1</td>\n",
       "      <td>52815</td>\n",
       "      <td>222.0</td>\n",
       "      <td>156.0</td>\n",
       "      <td>['fantasy', 'horror', 'mystery', 'thriller']</td>\n",
       "    </tr>\n",
       "    <tr>\n",
       "      <th>1</th>\n",
       "      <td>1</td>\n",
       "      <td>1</td>\n",
       "      <td>tt0011237</td>\n",
       "      <td>Der Golem, wie er in die Welt kam</td>\n",
       "      <td>1920</td>\n",
       "      <td>19 June 1921</td>\n",
       "      <td>91</td>\n",
       "      <td>In 16th-century Prague, a rabbi creates the Go...</td>\n",
       "      <td>In 16th-century Prague, a rabbi creates the Go...</td>\n",
       "      <td>7.2</td>\n",
       "      <td>6136</td>\n",
       "      <td>49.0</td>\n",
       "      <td>45.0</td>\n",
       "      <td>['fantasy', 'horror']</td>\n",
       "    </tr>\n",
       "    <tr>\n",
       "      <th>2</th>\n",
       "      <td>2</td>\n",
       "      <td>2</td>\n",
       "      <td>tt0011841</td>\n",
       "      <td>Way Down East</td>\n",
       "      <td>1920</td>\n",
       "      <td>3 September 1920</td>\n",
       "      <td>145</td>\n",
       "      <td>A naive country girl is tricked into a sham ma...</td>\n",
       "      <td>The callous rich, portrayed by Lennox, think o...</td>\n",
       "      <td>7.4</td>\n",
       "      <td>4800</td>\n",
       "      <td>49.0</td>\n",
       "      <td>28.0</td>\n",
       "      <td>['drama', 'romance']</td>\n",
       "    </tr>\n",
       "  </tbody>\n",
       "</table>\n",
       "</div>"
      ],
      "text/plain": [
       "   Unnamed: 0  Unnamed: 0.1     tconst                              title  \\\n",
       "0           0             0  tt0010323       Das Cabinet des Dr. Caligari   \n",
       "1           1             1  tt0011237  Der Golem, wie er in die Welt kam   \n",
       "2           2             2  tt0011841                      Way Down East   \n",
       "\n",
       "   release_year      release_date  runtime  \\\n",
       "0          1920  27 February 1920       67   \n",
       "1          1920      19 June 1921       91   \n",
       "2          1920  3 September 1920      145   \n",
       "\n",
       "                                          plot_short  \\\n",
       "0  Hypnotist Dr. Caligari uses a somnambulist, Ce...   \n",
       "1  In 16th-century Prague, a rabbi creates the Go...   \n",
       "2  A naive country girl is tricked into a sham ma...   \n",
       "\n",
       "                                           plot_long  imdb_rating  \\\n",
       "0  Francis, a young man, recalls in his memory th...          8.1   \n",
       "1  In 16th-century Prague, a rabbi creates the Go...          7.2   \n",
       "2  The callous rich, portrayed by Lennox, think o...          7.4   \n",
       "\n",
       "   num_imdb_votes  num_user_reviews  num_critic_reviews  \\\n",
       "0           52815             222.0               156.0   \n",
       "1            6136              49.0                45.0   \n",
       "2            4800              49.0                28.0   \n",
       "\n",
       "                                          genre  \n",
       "0  ['fantasy', 'horror', 'mystery', 'thriller']  \n",
       "1                         ['fantasy', 'horror']  \n",
       "2                          ['drama', 'romance']  "
      ]
     },
     "execution_count": 3,
     "metadata": {},
     "output_type": "execute_result"
    }
   ],
   "source": [
    "import pandas as pd\n",
    "df = pd.read_csv('imdb_dataset')\n",
    "# Display the first few rows of the dataframe\n",
    "df.head(3)"
   ]
  },
  {
   "cell_type": "code",
   "execution_count": 7,
   "metadata": {},
   "outputs": [
    {
     "name": "stdout",
     "output_type": "stream",
     "text": [
      "30042 (30042, 14)\n"
     ]
    }
   ],
   "source": [
    "total_list = []\n",
    "for labels in df[\"genre\"]:\n",
    "    labels_list = eval(labels.strip(\"[]\"))\n",
    "    total_list.append(list(labels_list))\n",
    "print(len(total_list), df.shape)"
   ]
  },
  {
   "cell_type": "code",
   "execution_count": 8,
   "metadata": {},
   "outputs": [],
   "source": [
    "df[\"genre\"] = total_list"
   ]
  },
  {
   "cell_type": "code",
   "execution_count": 10,
   "metadata": {},
   "outputs": [
    {
     "data": {
      "text/html": [
       "<div>\n",
       "<style scoped>\n",
       "    .dataframe tbody tr th:only-of-type {\n",
       "        vertical-align: middle;\n",
       "    }\n",
       "\n",
       "    .dataframe tbody tr th {\n",
       "        vertical-align: top;\n",
       "    }\n",
       "\n",
       "    .dataframe thead th {\n",
       "        text-align: right;\n",
       "    }\n",
       "</style>\n",
       "<table border=\"1\" class=\"dataframe\">\n",
       "  <thead>\n",
       "    <tr style=\"text-align: right;\">\n",
       "      <th></th>\n",
       "      <th>title</th>\n",
       "      <th>release_year</th>\n",
       "      <th>release_date</th>\n",
       "      <th>runtime</th>\n",
       "      <th>plot_short</th>\n",
       "      <th>plot_long</th>\n",
       "      <th>imdb_rating</th>\n",
       "      <th>num_imdb_votes</th>\n",
       "      <th>num_user_reviews</th>\n",
       "      <th>num_critic_reviews</th>\n",
       "      <th>genre</th>\n",
       "    </tr>\n",
       "  </thead>\n",
       "  <tbody>\n",
       "    <tr>\n",
       "      <th>0</th>\n",
       "      <td>Das Cabinet des Dr. Caligari</td>\n",
       "      <td>1920</td>\n",
       "      <td>27 February 1920</td>\n",
       "      <td>67</td>\n",
       "      <td>Hypnotist Dr. Caligari uses a somnambulist, Ce...</td>\n",
       "      <td>Francis, a young man, recalls in his memory th...</td>\n",
       "      <td>8.1</td>\n",
       "      <td>52815</td>\n",
       "      <td>222.0</td>\n",
       "      <td>156.0</td>\n",
       "      <td>[fantasy, horror, mystery, thriller]</td>\n",
       "    </tr>\n",
       "    <tr>\n",
       "      <th>1</th>\n",
       "      <td>Der Golem, wie er in die Welt kam</td>\n",
       "      <td>1920</td>\n",
       "      <td>19 June 1921</td>\n",
       "      <td>91</td>\n",
       "      <td>In 16th-century Prague, a rabbi creates the Go...</td>\n",
       "      <td>In 16th-century Prague, a rabbi creates the Go...</td>\n",
       "      <td>7.2</td>\n",
       "      <td>6136</td>\n",
       "      <td>49.0</td>\n",
       "      <td>45.0</td>\n",
       "      <td>[fantasy, horror]</td>\n",
       "    </tr>\n",
       "  </tbody>\n",
       "</table>\n",
       "</div>"
      ],
      "text/plain": [
       "                               title  release_year      release_date  runtime  \\\n",
       "0       Das Cabinet des Dr. Caligari          1920  27 February 1920       67   \n",
       "1  Der Golem, wie er in die Welt kam          1920      19 June 1921       91   \n",
       "\n",
       "                                          plot_short  \\\n",
       "0  Hypnotist Dr. Caligari uses a somnambulist, Ce...   \n",
       "1  In 16th-century Prague, a rabbi creates the Go...   \n",
       "\n",
       "                                           plot_long  imdb_rating  \\\n",
       "0  Francis, a young man, recalls in his memory th...          8.1   \n",
       "1  In 16th-century Prague, a rabbi creates the Go...          7.2   \n",
       "\n",
       "   num_imdb_votes  num_user_reviews  num_critic_reviews  \\\n",
       "0           52815             222.0               156.0   \n",
       "1            6136              49.0                45.0   \n",
       "\n",
       "                                  genre  \n",
       "0  [fantasy, horror, mystery, thriller]  \n",
       "1                     [fantasy, horror]  "
      ]
     },
     "execution_count": 10,
     "metadata": {},
     "output_type": "execute_result"
    }
   ],
   "source": [
    "df = df.drop(['Unnamed: 0.1', 'Unnamed: 0', 'tconst'], axis = 1)\n",
    "df.head(2)"
   ]
  },
  {
   "cell_type": "code",
   "execution_count": 11,
   "metadata": {},
   "outputs": [
    {
     "name": "stdout",
     "output_type": "stream",
     "text": [
      "Total number of unique labels: 44\n"
     ]
    }
   ],
   "source": [
    "multi_label_data = df['genre']\n",
    "# Step 1: Flatten the list of lists\n",
    "flattened_labels = [label for sublist in multi_label_data for label in sublist]\n",
    "# Step 2: Convert the flattened list to a set to get unique labels\n",
    "unique_labels = set(flattened_labels)\n",
    "# Step 3: Count the number of unique labels\n",
    "total_unique_labels = len(unique_labels)\n",
    "print(f\"Total number of unique labels: {total_unique_labels}\")"
   ]
  },
  {
   "cell_type": "code",
   "execution_count": 15,
   "metadata": {},
   "outputs": [
    {
     "name": "stdout",
     "output_type": "stream",
     "text": [
      "Genre Distribution:\n",
      "drama          14460\n",
      "comedy          8984\n",
      "thriller        7342\n",
      "romance         6689\n",
      "action          5390\n",
      "a               5308\n",
      "r               5044\n",
      "crime           4903\n",
      "m               4470\n",
      "d               4404\n",
      "horror          3461\n",
      "o               3403\n",
      "adventure       3331\n",
      "mystery         2774\n",
      "e               2537\n",
      "sci-fi          2442\n",
      "fantasy         2340\n",
      "c               2303\n",
      "y               2145\n",
      "music           1866\n",
      "family          1799\n",
      "biography       1591\n",
      "war             1490\n",
      "history         1381\n",
      "animation        963\n",
      "t                919\n",
      "musical          874\n",
      "documentary      804\n",
      "sport            794\n",
      "n                788\n",
      "h                752\n",
      "western          585\n",
      "u                540\n",
      "i                383\n",
      "l                354\n",
      "film-noir        311\n",
      "s                146\n",
      "w                 94\n",
      "f                 59\n",
      "-                 35\n",
      "p                  8\n",
      "g                  8\n",
      "v                  8\n",
      "b                  8\n",
      "dtype: int64\n"
     ]
    }
   ],
   "source": [
    "import matplotlib.pyplot as plt\n",
    "genre_counts = pd.Series(flattened_labels).value_counts()\n",
    "# Step 3: Print the genre distribution\n",
    "print(\"Genre Distribution:\")\n",
    "print(genre_counts)"
   ]
  },
  {
   "cell_type": "code",
   "execution_count": 19,
   "metadata": {},
   "outputs": [
    {
     "name": "stdout",
     "output_type": "stream",
     "text": [
      "Average length of words: 4.85\n"
     ]
    }
   ],
   "source": [
    "def avg_word_length(text):\n",
    "    words = text.split()\n",
    "    if len(words) == 0:\n",
    "        return 0\n",
    "    return sum(len(word) for word in words) / len(words)\n",
    "\n",
    "# Apply the function to the column and calculate the average word length\n",
    "average_lengths = df['plot_long'].apply(avg_word_length)\n",
    "overall_average_length = average_lengths.mean()\n",
    "\n",
    "print(f\"Average length of words: {overall_average_length:.2f}\")"
   ]
  }
 ],
 "metadata": {
  "kernelspec": {
   "display_name": "Python 3",
   "language": "python",
   "name": "python3"
  },
  "language_info": {
   "codemirror_mode": {
    "name": "ipython",
    "version": 3
   },
   "file_extension": ".py",
   "mimetype": "text/x-python",
   "name": "python",
   "nbconvert_exporter": "python",
   "pygments_lexer": "ipython3",
   "version": "3.7.3"
  }
 },
 "nbformat": 4,
 "nbformat_minor": 2
}
