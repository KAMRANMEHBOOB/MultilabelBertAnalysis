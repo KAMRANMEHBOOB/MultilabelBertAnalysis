{
 "cells": [
  {
   "cell_type": "markdown",
   "metadata": {
    "id": "4TFMWw9iiQwO"
   },
   "source": [
    "## Installing Dependencies"
   ]
  },
  {
   "cell_type": "code",
   "execution_count": null,
   "metadata": {
    "id": "9900cb8f-6afe-4609-b070-84714f8bb5c7",
    "outputId": "567d2921-2886-4024-c707-41a5a60f28b2"
   },
   "outputs": [
    {
     "name": "stdout",
     "output_type": "stream",
     "text": [
      "Requirement already satisfied: pandas in /usr/local/lib/python3.10/dist-packages (2.2.2)\n",
      "Requirement already satisfied: numpy>=1.22.4 in /usr/local/lib/python3.10/dist-packages (from pandas) (1.24.1)\n",
      "Requirement already satisfied: python-dateutil>=2.8.2 in /usr/local/lib/python3.10/dist-packages (from pandas) (2.8.2)\n",
      "Requirement already satisfied: pytz>=2020.1 in /usr/local/lib/python3.10/dist-packages (from pandas) (2024.1)\n",
      "Requirement already satisfied: tzdata>=2022.7 in /usr/local/lib/python3.10/dist-packages (from pandas) (2024.1)\n",
      "Requirement already satisfied: six>=1.5 in /usr/lib/python3/dist-packages (from python-dateutil>=2.8.2->pandas) (1.16.0)\n",
      "\u001b[33mWARNING: Running pip as the 'root' user can result in broken permissions and conflicting behaviour with the system package manager. It is recommended to use a virtual environment instead: https://pip.pypa.io/warnings/venv\u001b[0m\u001b[33m\n",
      "\u001b[0m"
     ]
    }
   ],
   "source": [
    "!pip install pandas\n",
    "! python3 -m pip install scikit-learn"
   ]
  },
  {
   "cell_type": "code",
   "execution_count": null,
   "metadata": {
    "id": "cb4bc6d2-715c-4dc8-9237-6e6c794931b4",
    "outputId": "8a82289e-ee36-48f8-c2bb-50657554cf2e"
   },
   "outputs": [
    {
     "name": "stdout",
     "output_type": "stream",
     "text": [
      "Requirement already satisfied: optuna in /usr/local/lib/python3.10/dist-packages (3.6.1)\n",
      "Requirement already satisfied: alembic>=1.5.0 in /usr/local/lib/python3.10/dist-packages (from optuna) (1.13.1)\n",
      "Requirement already satisfied: colorlog in /usr/local/lib/python3.10/dist-packages (from optuna) (6.8.2)\n",
      "Requirement already satisfied: numpy in /usr/local/lib/python3.10/dist-packages (from optuna) (1.24.1)\n",
      "Requirement already satisfied: packaging>=20.0 in /usr/local/lib/python3.10/dist-packages (from optuna) (23.2)\n",
      "Requirement already satisfied: sqlalchemy>=1.3.0 in /usr/local/lib/python3.10/dist-packages (from optuna) (2.0.30)\n",
      "Requirement already satisfied: tqdm in /usr/local/lib/python3.10/dist-packages (from optuna) (4.66.4)\n",
      "Requirement already satisfied: PyYAML in /usr/local/lib/python3.10/dist-packages (from optuna) (6.0.1)\n",
      "Requirement already satisfied: Mako in /usr/local/lib/python3.10/dist-packages (from alembic>=1.5.0->optuna) (1.3.5)\n",
      "Requirement already satisfied: typing-extensions>=4 in /usr/local/lib/python3.10/dist-packages (from alembic>=1.5.0->optuna) (4.12.2)\n",
      "Requirement already satisfied: greenlet!=0.4.17 in /usr/local/lib/python3.10/dist-packages (from sqlalchemy>=1.3.0->optuna) (3.0.3)\n",
      "Requirement already satisfied: MarkupSafe>=0.9.2 in /usr/local/lib/python3.10/dist-packages (from Mako->alembic>=1.5.0->optuna) (2.1.2)\n",
      "\u001b[33mWARNING: Running pip as the 'root' user can result in broken permissions and conflicting behaviour with the system package manager. It is recommended to use a virtual environment instead: https://pip.pypa.io/warnings/venv\u001b[0m\u001b[33m\n",
      "\u001b[0mRequirement already satisfied: transformers[optuna] in /usr/local/lib/python3.10/dist-packages (4.41.2)\n",
      "Requirement already satisfied: filelock in /usr/local/lib/python3.10/dist-packages (from transformers[optuna]) (3.9.0)\n",
      "Requirement already satisfied: huggingface-hub<1.0,>=0.23.0 in /usr/local/lib/python3.10/dist-packages (from transformers[optuna]) (0.23.3)\n",
      "Requirement already satisfied: numpy>=1.17 in /usr/local/lib/python3.10/dist-packages (from transformers[optuna]) (1.24.1)\n",
      "Requirement already satisfied: packaging>=20.0 in /usr/local/lib/python3.10/dist-packages (from transformers[optuna]) (23.2)\n",
      "Requirement already satisfied: pyyaml>=5.1 in /usr/local/lib/python3.10/dist-packages (from transformers[optuna]) (6.0.1)\n",
      "Requirement already satisfied: regex!=2019.12.17 in /usr/local/lib/python3.10/dist-packages (from transformers[optuna]) (2024.5.15)\n",
      "Requirement already satisfied: requests in /usr/local/lib/python3.10/dist-packages (from transformers[optuna]) (2.31.0)\n",
      "Requirement already satisfied: tokenizers<0.20,>=0.19 in /usr/local/lib/python3.10/dist-packages (from transformers[optuna]) (0.19.1)\n",
      "Requirement already satisfied: safetensors>=0.4.1 in /usr/local/lib/python3.10/dist-packages (from transformers[optuna]) (0.4.3)\n",
      "Requirement already satisfied: tqdm>=4.27 in /usr/local/lib/python3.10/dist-packages (from transformers[optuna]) (4.66.4)\n",
      "Requirement already satisfied: optuna in /usr/local/lib/python3.10/dist-packages (from transformers[optuna]) (3.6.1)\n",
      "Requirement already satisfied: fsspec>=2023.5.0 in /usr/local/lib/python3.10/dist-packages (from huggingface-hub<1.0,>=0.23.0->transformers[optuna]) (2024.6.0)\n",
      "Requirement already satisfied: typing-extensions>=3.7.4.3 in /usr/local/lib/python3.10/dist-packages (from huggingface-hub<1.0,>=0.23.0->transformers[optuna]) (4.12.2)\n",
      "Requirement already satisfied: alembic>=1.5.0 in /usr/local/lib/python3.10/dist-packages (from optuna->transformers[optuna]) (1.13.1)\n",
      "Requirement already satisfied: colorlog in /usr/local/lib/python3.10/dist-packages (from optuna->transformers[optuna]) (6.8.2)\n",
      "Requirement already satisfied: sqlalchemy>=1.3.0 in /usr/local/lib/python3.10/dist-packages (from optuna->transformers[optuna]) (2.0.30)\n",
      "Requirement already satisfied: charset-normalizer<4,>=2 in /usr/local/lib/python3.10/dist-packages (from requests->transformers[optuna]) (2.1.1)\n",
      "Requirement already satisfied: idna<4,>=2.5 in /usr/local/lib/python3.10/dist-packages (from requests->transformers[optuna]) (3.4)\n",
      "Requirement already satisfied: urllib3<3,>=1.21.1 in /usr/local/lib/python3.10/dist-packages (from requests->transformers[optuna]) (1.26.13)\n",
      "Requirement already satisfied: certifi>=2017.4.17 in /usr/local/lib/python3.10/dist-packages (from requests->transformers[optuna]) (2022.12.7)\n",
      "Requirement already satisfied: Mako in /usr/local/lib/python3.10/dist-packages (from alembic>=1.5.0->optuna->transformers[optuna]) (1.3.5)\n",
      "Requirement already satisfied: greenlet!=0.4.17 in /usr/local/lib/python3.10/dist-packages (from sqlalchemy>=1.3.0->optuna->transformers[optuna]) (3.0.3)\n",
      "Requirement already satisfied: MarkupSafe>=0.9.2 in /usr/local/lib/python3.10/dist-packages (from Mako->alembic>=1.5.0->optuna->transformers[optuna]) (2.1.2)\n",
      "\u001b[33mWARNING: Running pip as the 'root' user can result in broken permissions and conflicting behaviour with the system package manager. It is recommended to use a virtual environment instead: https://pip.pypa.io/warnings/venv\u001b[0m\u001b[33m\n",
      "\u001b[0m"
     ]
    }
   ],
   "source": [
    "! pip install optuna\n",
    "! pip install transformers[optuna]"
   ]
  },
  {
   "cell_type": "code",
   "execution_count": null,
   "metadata": {
    "id": "2813dff7-9eec-4fb6-bea7-b439317ec767",
    "outputId": "cd855abd-ce1b-442e-f4a3-9ee724e13706"
   },
   "outputs": [
    {
     "name": "stdout",
     "output_type": "stream",
     "text": [
      "Requirement already satisfied: accelerate in /usr/local/lib/python3.10/dist-packages (0.31.0)\n",
      "Requirement already satisfied: numpy>=1.17 in /usr/local/lib/python3.10/dist-packages (from accelerate) (1.24.1)\n",
      "Requirement already satisfied: packaging>=20.0 in /usr/local/lib/python3.10/dist-packages (from accelerate) (23.2)\n",
      "Requirement already satisfied: psutil in /usr/local/lib/python3.10/dist-packages (from accelerate) (5.9.6)\n",
      "Requirement already satisfied: pyyaml in /usr/local/lib/python3.10/dist-packages (from accelerate) (6.0.1)\n",
      "Requirement already satisfied: torch>=1.10.0 in /usr/local/lib/python3.10/dist-packages (from accelerate) (2.0.1+cu118)\n",
      "Requirement already satisfied: huggingface-hub in /usr/local/lib/python3.10/dist-packages (from accelerate) (0.23.3)\n",
      "Requirement already satisfied: safetensors>=0.3.1 in /usr/local/lib/python3.10/dist-packages (from accelerate) (0.4.3)\n",
      "Requirement already satisfied: filelock in /usr/local/lib/python3.10/dist-packages (from torch>=1.10.0->accelerate) (3.9.0)\n",
      "Requirement already satisfied: typing-extensions in /usr/local/lib/python3.10/dist-packages (from torch>=1.10.0->accelerate) (4.4.0)\n",
      "Requirement already satisfied: sympy in /usr/local/lib/python3.10/dist-packages (from torch>=1.10.0->accelerate) (1.12)\n",
      "Requirement already satisfied: networkx in /usr/local/lib/python3.10/dist-packages (from torch>=1.10.0->accelerate) (3.0)\n",
      "Requirement already satisfied: jinja2 in /usr/local/lib/python3.10/dist-packages (from torch>=1.10.0->accelerate) (3.1.2)\n",
      "Requirement already satisfied: triton==2.0.0 in /usr/local/lib/python3.10/dist-packages (from torch>=1.10.0->accelerate) (2.0.0)\n",
      "Requirement already satisfied: cmake in /usr/local/lib/python3.10/dist-packages (from triton==2.0.0->torch>=1.10.0->accelerate) (3.25.0)\n",
      "Requirement already satisfied: lit in /usr/local/lib/python3.10/dist-packages (from triton==2.0.0->torch>=1.10.0->accelerate) (15.0.7)\n",
      "Requirement already satisfied: fsspec>=2023.5.0 in /usr/local/lib/python3.10/dist-packages (from huggingface-hub->accelerate) (2024.6.0)\n",
      "Requirement already satisfied: requests in /usr/local/lib/python3.10/dist-packages (from huggingface-hub->accelerate) (2.31.0)\n",
      "Requirement already satisfied: tqdm>=4.42.1 in /usr/local/lib/python3.10/dist-packages (from huggingface-hub->accelerate) (4.66.4)\n",
      "Requirement already satisfied: MarkupSafe>=2.0 in /usr/local/lib/python3.10/dist-packages (from jinja2->torch>=1.10.0->accelerate) (2.1.2)\n",
      "Requirement already satisfied: charset-normalizer<4,>=2 in /usr/local/lib/python3.10/dist-packages (from requests->huggingface-hub->accelerate) (2.1.1)\n",
      "Requirement already satisfied: idna<4,>=2.5 in /usr/local/lib/python3.10/dist-packages (from requests->huggingface-hub->accelerate) (3.4)\n",
      "Requirement already satisfied: urllib3<3,>=1.21.1 in /usr/local/lib/python3.10/dist-packages (from requests->huggingface-hub->accelerate) (1.26.13)\n",
      "Requirement already satisfied: certifi>=2017.4.17 in /usr/local/lib/python3.10/dist-packages (from requests->huggingface-hub->accelerate) (2022.12.7)\n",
      "Requirement already satisfied: mpmath>=0.19 in /usr/local/lib/python3.10/dist-packages (from sympy->torch>=1.10.0->accelerate) (1.3.0)\n",
      "\u001b[33mWARNING: Running pip as the 'root' user can result in broken permissions and conflicting behaviour with the system package manager. It is recommended to use a virtual environment instead: https://pip.pypa.io/warnings/venv\u001b[0m\u001b[33m\n",
      "\u001b[0mRequirement already satisfied: transformers in /usr/local/lib/python3.10/dist-packages (4.41.2)\n",
      "Requirement already satisfied: filelock in /usr/local/lib/python3.10/dist-packages (from transformers) (3.9.0)\n",
      "Requirement already satisfied: huggingface-hub<1.0,>=0.23.0 in /usr/local/lib/python3.10/dist-packages (from transformers) (0.23.3)\n",
      "Requirement already satisfied: numpy>=1.17 in /usr/local/lib/python3.10/dist-packages (from transformers) (1.24.1)\n",
      "Requirement already satisfied: packaging>=20.0 in /usr/local/lib/python3.10/dist-packages (from transformers) (23.2)\n",
      "Requirement already satisfied: pyyaml>=5.1 in /usr/local/lib/python3.10/dist-packages (from transformers) (6.0.1)\n",
      "Requirement already satisfied: regex!=2019.12.17 in /usr/local/lib/python3.10/dist-packages (from transformers) (2024.5.15)\n",
      "Requirement already satisfied: requests in /usr/local/lib/python3.10/dist-packages (from transformers) (2.31.0)\n",
      "Requirement already satisfied: tokenizers<0.20,>=0.19 in /usr/local/lib/python3.10/dist-packages (from transformers) (0.19.1)\n",
      "Requirement already satisfied: safetensors>=0.4.1 in /usr/local/lib/python3.10/dist-packages (from transformers) (0.4.3)\n",
      "Requirement already satisfied: tqdm>=4.27 in /usr/local/lib/python3.10/dist-packages (from transformers) (4.66.4)\n",
      "Requirement already satisfied: fsspec>=2023.5.0 in /usr/local/lib/python3.10/dist-packages (from huggingface-hub<1.0,>=0.23.0->transformers) (2024.6.0)\n",
      "Requirement already satisfied: typing-extensions>=3.7.4.3 in /usr/local/lib/python3.10/dist-packages (from huggingface-hub<1.0,>=0.23.0->transformers) (4.4.0)\n",
      "Requirement already satisfied: charset-normalizer<4,>=2 in /usr/local/lib/python3.10/dist-packages (from requests->transformers) (2.1.1)\n",
      "Requirement already satisfied: idna<4,>=2.5 in /usr/local/lib/python3.10/dist-packages (from requests->transformers) (3.4)\n",
      "Requirement already satisfied: urllib3<3,>=1.21.1 in /usr/local/lib/python3.10/dist-packages (from requests->transformers) (1.26.13)\n",
      "Requirement already satisfied: certifi>=2017.4.17 in /usr/local/lib/python3.10/dist-packages (from requests->transformers) (2022.12.7)\n",
      "\u001b[33mWARNING: Running pip as the 'root' user can result in broken permissions and conflicting behaviour with the system package manager. It is recommended to use a virtual environment instead: https://pip.pypa.io/warnings/venv\u001b[0m\u001b[33m\n",
      "\u001b[0m"
     ]
    }
   ],
   "source": [
    "! pip install -U accelerate\n",
    "! pip install -U transformers"
   ]
  },
  {
   "cell_type": "code",
   "execution_count": null,
   "metadata": {
    "id": "7c7d2c50-053e-479f-8b03-c6e79d4169f2"
   },
   "outputs": [],
   "source": [
    "from transformers import BertTokenizer, AutoTokenizer, BertModel, BertConfig, AutoModel, AdamW\n",
    "import pandas as pd\n",
    "import numpy as np"
   ]
  },
  {
   "cell_type": "markdown",
   "metadata": {
    "id": "BcyjsGZjiiR9"
   },
   "source": [
    "## 1. Data Loading and Preprocessing."
   ]
  },
  {
   "cell_type": "code",
   "execution_count": null,
   "metadata": {
    "id": "99a10a30-abb7-44bb-a1e7-6f65c7db2221",
    "outputId": "4d5f34e2-77c4-4676-adcd-81de82c7ec6c"
   },
   "outputs": [
    {
     "data": {
      "text/html": [
       "<div>\n",
       "<style scoped>\n",
       "    .dataframe tbody tr th:only-of-type {\n",
       "        vertical-align: middle;\n",
       "    }\n",
       "\n",
       "    .dataframe tbody tr th {\n",
       "        vertical-align: top;\n",
       "    }\n",
       "\n",
       "    .dataframe thead th {\n",
       "        text-align: right;\n",
       "    }\n",
       "</style>\n",
       "<table border=\"1\" class=\"dataframe\">\n",
       "  <thead>\n",
       "    <tr style=\"text-align: right;\">\n",
       "      <th></th>\n",
       "      <th>Unnamed: 0.1</th>\n",
       "      <th>Unnamed: 0</th>\n",
       "      <th>tconst</th>\n",
       "      <th>title</th>\n",
       "      <th>release_year</th>\n",
       "      <th>release_date</th>\n",
       "      <th>runtime</th>\n",
       "      <th>plot_short</th>\n",
       "      <th>plot_long</th>\n",
       "      <th>imdb_rating</th>\n",
       "      <th>num_imdb_votes</th>\n",
       "      <th>num_user_reviews</th>\n",
       "      <th>num_critic_reviews</th>\n",
       "      <th>genre</th>\n",
       "    </tr>\n",
       "  </thead>\n",
       "  <tbody>\n",
       "    <tr>\n",
       "      <th>0</th>\n",
       "      <td>0</td>\n",
       "      <td>0</td>\n",
       "      <td>tt0010323</td>\n",
       "      <td>Das Cabinet des Dr. Caligari</td>\n",
       "      <td>1920</td>\n",
       "      <td>27 February 1920</td>\n",
       "      <td>67</td>\n",
       "      <td>Hypnotist Dr. Caligari uses a somnambulist, Ce...</td>\n",
       "      <td>Francis, a young man, recalls in his memory th...</td>\n",
       "      <td>8.1</td>\n",
       "      <td>52815</td>\n",
       "      <td>222.0</td>\n",
       "      <td>156.0</td>\n",
       "      <td>['fantasy', 'horror', 'mystery', 'thriller']</td>\n",
       "    </tr>\n",
       "    <tr>\n",
       "      <th>1</th>\n",
       "      <td>1</td>\n",
       "      <td>1</td>\n",
       "      <td>tt0011237</td>\n",
       "      <td>Der Golem, wie er in die Welt kam</td>\n",
       "      <td>1920</td>\n",
       "      <td>19 June 1921</td>\n",
       "      <td>91</td>\n",
       "      <td>In 16th-century Prague, a rabbi creates the Go...</td>\n",
       "      <td>In 16th-century Prague, a rabbi creates the Go...</td>\n",
       "      <td>7.2</td>\n",
       "      <td>6136</td>\n",
       "      <td>49.0</td>\n",
       "      <td>45.0</td>\n",
       "      <td>['fantasy', 'horror']</td>\n",
       "    </tr>\n",
       "    <tr>\n",
       "      <th>2</th>\n",
       "      <td>2</td>\n",
       "      <td>2</td>\n",
       "      <td>tt0011841</td>\n",
       "      <td>Way Down East</td>\n",
       "      <td>1920</td>\n",
       "      <td>3 September 1920</td>\n",
       "      <td>145</td>\n",
       "      <td>A naive country girl is tricked into a sham ma...</td>\n",
       "      <td>The callous rich, portrayed by Lennox, think o...</td>\n",
       "      <td>7.4</td>\n",
       "      <td>4800</td>\n",
       "      <td>49.0</td>\n",
       "      <td>28.0</td>\n",
       "      <td>['drama', 'romance']</td>\n",
       "    </tr>\n",
       "  </tbody>\n",
       "</table>\n",
       "</div>"
      ],
      "text/plain": [
       "   Unnamed: 0.1  Unnamed: 0     tconst                              title  \\\n",
       "0             0           0  tt0010323       Das Cabinet des Dr. Caligari   \n",
       "1             1           1  tt0011237  Der Golem, wie er in die Welt kam   \n",
       "2             2           2  tt0011841                      Way Down East   \n",
       "\n",
       "   release_year      release_date  runtime  \\\n",
       "0          1920  27 February 1920       67   \n",
       "1          1920      19 June 1921       91   \n",
       "2          1920  3 September 1920      145   \n",
       "\n",
       "                                          plot_short  \\\n",
       "0  Hypnotist Dr. Caligari uses a somnambulist, Ce...   \n",
       "1  In 16th-century Prague, a rabbi creates the Go...   \n",
       "2  A naive country girl is tricked into a sham ma...   \n",
       "\n",
       "                                           plot_long  imdb_rating  \\\n",
       "0  Francis, a young man, recalls in his memory th...          8.1   \n",
       "1  In 16th-century Prague, a rabbi creates the Go...          7.2   \n",
       "2  The callous rich, portrayed by Lennox, think o...          7.4   \n",
       "\n",
       "   num_imdb_votes  num_user_reviews  num_critic_reviews  \\\n",
       "0           52815             222.0               156.0   \n",
       "1            6136              49.0                45.0   \n",
       "2            4800              49.0                28.0   \n",
       "\n",
       "                                          genre  \n",
       "0  ['fantasy', 'horror', 'mystery', 'thriller']  \n",
       "1                         ['fantasy', 'horror']  \n",
       "2                          ['drama', 'romance']  "
      ]
     },
     "execution_count": 37,
     "metadata": {},
     "output_type": "execute_result"
    }
   ],
   "source": [
    "df = pd.read_csv('imdb_dataset')\n",
    "# Display the first few rows of the dataframe\n",
    "df.head(3)"
   ]
  },
  {
   "cell_type": "markdown",
   "metadata": {
    "id": "zgUcAnFEirY7"
   },
   "source": [
    "### Observation\n",
    "<p> The dataset contains a number of columns related to the movie present in the title column. \"release_year\", \"plot_long\",\"plot_short\",\"imdb_rating\" etc., are some of the important columns present. </p>"
   ]
  },
  {
   "cell_type": "code",
   "execution_count": null,
   "metadata": {
    "id": "6403affb-c3a4-49a6-8581-1c164d3cc91b",
    "outputId": "008a4877-c8c0-44fd-b34b-4efe321f5cf7"
   },
   "outputs": [
    {
     "data": {
      "text/plain": [
       "Index(['Unnamed: 0.1', 'Unnamed: 0', 'tconst', 'title', 'release_year',\n",
       "       'release_date', 'runtime', 'plot_short', 'plot_long', 'imdb_rating',\n",
       "       'num_imdb_votes', 'num_user_reviews', 'num_critic_reviews', 'genre'],\n",
       "      dtype='object')"
      ]
     },
     "execution_count": 38,
     "metadata": {},
     "output_type": "execute_result"
    }
   ],
   "source": [
    "df.columns"
   ]
  },
  {
   "cell_type": "markdown",
   "metadata": {
    "id": "EDyA5EaTjGU7"
   },
   "source": [
    "<p> Removing unimportant columns from our dataset</p>"
   ]
  },
  {
   "cell_type": "code",
   "execution_count": null,
   "metadata": {
    "id": "16c4632b-3a3a-465f-a071-be4848406b87",
    "outputId": "9e7b26fe-cf4a-4433-9480-7c28b574bc00"
   },
   "outputs": [
    {
     "data": {
      "text/html": [
       "<div>\n",
       "<style scoped>\n",
       "    .dataframe tbody tr th:only-of-type {\n",
       "        vertical-align: middle;\n",
       "    }\n",
       "\n",
       "    .dataframe tbody tr th {\n",
       "        vertical-align: top;\n",
       "    }\n",
       "\n",
       "    .dataframe thead th {\n",
       "        text-align: right;\n",
       "    }\n",
       "</style>\n",
       "<table border=\"1\" class=\"dataframe\">\n",
       "  <thead>\n",
       "    <tr style=\"text-align: right;\">\n",
       "      <th></th>\n",
       "      <th>title</th>\n",
       "      <th>release_year</th>\n",
       "      <th>release_date</th>\n",
       "      <th>runtime</th>\n",
       "      <th>plot_short</th>\n",
       "      <th>plot_long</th>\n",
       "      <th>imdb_rating</th>\n",
       "      <th>num_imdb_votes</th>\n",
       "      <th>num_user_reviews</th>\n",
       "      <th>num_critic_reviews</th>\n",
       "      <th>genre</th>\n",
       "    </tr>\n",
       "  </thead>\n",
       "  <tbody>\n",
       "    <tr>\n",
       "      <th>0</th>\n",
       "      <td>Das Cabinet des Dr. Caligari</td>\n",
       "      <td>1920</td>\n",
       "      <td>27 February 1920</td>\n",
       "      <td>67</td>\n",
       "      <td>Hypnotist Dr. Caligari uses a somnambulist, Ce...</td>\n",
       "      <td>Francis, a young man, recalls in his memory th...</td>\n",
       "      <td>8.1</td>\n",
       "      <td>52815</td>\n",
       "      <td>222.0</td>\n",
       "      <td>156.0</td>\n",
       "      <td>['fantasy', 'horror', 'mystery', 'thriller']</td>\n",
       "    </tr>\n",
       "    <tr>\n",
       "      <th>1</th>\n",
       "      <td>Der Golem, wie er in die Welt kam</td>\n",
       "      <td>1920</td>\n",
       "      <td>19 June 1921</td>\n",
       "      <td>91</td>\n",
       "      <td>In 16th-century Prague, a rabbi creates the Go...</td>\n",
       "      <td>In 16th-century Prague, a rabbi creates the Go...</td>\n",
       "      <td>7.2</td>\n",
       "      <td>6136</td>\n",
       "      <td>49.0</td>\n",
       "      <td>45.0</td>\n",
       "      <td>['fantasy', 'horror']</td>\n",
       "    </tr>\n",
       "  </tbody>\n",
       "</table>\n",
       "</div>"
      ],
      "text/plain": [
       "                               title  release_year      release_date  runtime  \\\n",
       "0       Das Cabinet des Dr. Caligari          1920  27 February 1920       67   \n",
       "1  Der Golem, wie er in die Welt kam          1920      19 June 1921       91   \n",
       "\n",
       "                                          plot_short  \\\n",
       "0  Hypnotist Dr. Caligari uses a somnambulist, Ce...   \n",
       "1  In 16th-century Prague, a rabbi creates the Go...   \n",
       "\n",
       "                                           plot_long  imdb_rating  \\\n",
       "0  Francis, a young man, recalls in his memory th...          8.1   \n",
       "1  In 16th-century Prague, a rabbi creates the Go...          7.2   \n",
       "\n",
       "   num_imdb_votes  num_user_reviews  num_critic_reviews  \\\n",
       "0           52815             222.0               156.0   \n",
       "1            6136              49.0                45.0   \n",
       "\n",
       "                                          genre  \n",
       "0  ['fantasy', 'horror', 'mystery', 'thriller']  \n",
       "1                         ['fantasy', 'horror']  "
      ]
     },
     "execution_count": 39,
     "metadata": {},
     "output_type": "execute_result"
    }
   ],
   "source": [
    "df = df.drop(['Unnamed: 0.1', 'Unnamed: 0', 'tconst'], axis = 1)\n",
    "df.head(2)"
   ]
  },
  {
   "cell_type": "markdown",
   "metadata": {
    "id": "XJ7Yz0qljULA"
   },
   "source": [
    "### Observation\n",
    "<p> Our dataset has a genre column (target variable) which has multiple genres/labels present for a movie. Our aim in this project is to correctly predict the multiple labels present for a movie. </p>"
   ]
  },
  {
   "cell_type": "code",
   "execution_count": null,
   "metadata": {
    "id": "67435409-d27f-4470-be57-6fc3514e7eb5",
    "outputId": "b67896e0-ff18-47da-881a-d1e8fc5921a4"
   },
   "outputs": [
    {
     "data": {
      "text/plain": [
       "(\"Francis, a young man, recalls in his memory the horrible experiences he and his fiancée Jane recently went through. It is the annual fair in Holstenwall. Francis and his friend Alan visit The Cabinet of Dr. Caligari, an exhibit where the mysterious doctor shows the somnambulist Cesare, and awakens him for some moments from his death-like sleep. When Alan asks Cesare about his future, Cesare answers that he will die before dawn. The next morning Alan is found dead. Francis suspects Cesare of being the murderer, and starts spying on him and Dr. Caligari. The following night Cesare is going to stab Jane in her bed, but softens when he sees the beautiful woman, and instead of committing another murder, he abducts her. Jane's father awakens because of the noise, and he and some servants follow the fleeing Cesare. When Cesare cannot outrun his pursuers anymore, he gently places Jane down on the ground, and runs away. Francis and the police investigate the caravan of Dr. Caligari, but the ...\",\n",
       " 'Hypnotist Dr. Caligari uses a somnambulist, Cesare, to commit murders.',\n",
       " 'Das Cabinet des Dr. Caligari',\n",
       " \"['fantasy', 'horror', 'mystery', 'thriller']\")"
      ]
     },
     "execution_count": 40,
     "metadata": {},
     "output_type": "execute_result"
    }
   ],
   "source": [
    "df['plot_long'][0], df['plot_short'][0],df['title'][0], df['genre'][0]"
   ]
  },
  {
   "cell_type": "markdown",
   "metadata": {
    "id": "Pl-fO5eWj51q"
   },
   "source": [
    "### Intializing the BERT Model"
   ]
  },
  {
   "cell_type": "code",
   "execution_count": null,
   "metadata": {
    "id": "f0dfd94d-8440-4bae-b050-b5868b7ed81a"
   },
   "outputs": [],
   "source": [
    "# Initialize the BERT tokenizer\n",
    "tokenizer = BertTokenizer.from_pretrained('bert-base-uncased')"
   ]
  },
  {
   "cell_type": "code",
   "execution_count": null,
   "metadata": {
    "id": "6f456d5c-a8f5-4117-bbf9-895ceb2c32b2"
   },
   "outputs": [],
   "source": [
    "df['tokens'] = df['plot_long'].apply(lambda x: tokenizer.tokenize(x))"
   ]
  },
  {
   "cell_type": "code",
   "execution_count": null,
   "metadata": {
    "id": "c73cef83-9d29-4e50-8e8d-0ab1144bf56c"
   },
   "outputs": [],
   "source": [
    "df['input_ids'] = df['tokens'].apply(lambda x: tokenizer.convert_tokens_to_ids(x))"
   ]
  },
  {
   "cell_type": "code",
   "execution_count": null,
   "metadata": {
    "id": "609a5407-2da0-43e2-aca3-002240c7dff8"
   },
   "outputs": [],
   "source": [
    "max_length = 128\n",
    "# Pad input sequences\n",
    "df['input_ids'] = df['input_ids'].apply(lambda x: np.array(x[:max_length] + [0] * (max_length - len(x))))"
   ]
  },
  {
   "cell_type": "code",
   "execution_count": null,
   "metadata": {
    "id": "0fbb89eb-93fc-438e-bfb8-5d9afdec616f",
    "outputId": "50ce0962-8d47-4003-fa53-5cb88d508b31"
   },
   "outputs": [
    {
     "name": "stdout",
     "output_type": "stream",
     "text": [
      "                                           plot_long  \\\n",
      "0  Francis, a young man, recalls in his memory th...   \n",
      "1  In 16th-century Prague, a rabbi creates the Go...   \n",
      "\n",
      "                                              tokens  \\\n",
      "0  [francis, ,, a, young, man, ,, recalls, in, hi...   \n",
      "1  [in, 16th, -, century, prague, ,, a, rabbi, cr...   \n",
      "\n",
      "                                           input_ids  \n",
      "0  [4557, 1010, 1037, 2402, 2158, 1010, 17722, 19...  \n",
      "1  [1999, 5767, 1011, 2301, 8634, 1010, 1037, 790...  \n"
     ]
    }
   ],
   "source": [
    "print(df[['plot_long', 'tokens', 'input_ids']].head(2))"
   ]
  },
  {
   "cell_type": "code",
   "execution_count": null,
   "metadata": {
    "id": "97935460-c3ee-4ede-9e95-15c0814c9540"
   },
   "outputs": [],
   "source": [
    "df['attention_mask'] = df['input_ids'].apply(lambda x: [1] * len(x))"
   ]
  },
  {
   "cell_type": "code",
   "execution_count": null,
   "metadata": {
    "id": "9b561ef4-dd8a-474b-bcd8-db5fa59ad6e3",
    "outputId": "b78bc1a3-5f95-45bd-f533-1eb75a8e5d51"
   },
   "outputs": [
    {
     "data": {
      "text/plain": [
       "Index(['title', 'release_year', 'release_date', 'runtime', 'plot_short',\n",
       "       'plot_long', 'imdb_rating', 'num_imdb_votes', 'num_user_reviews',\n",
       "       'num_critic_reviews', 'genre', 'tokens', 'input_ids', 'attention_mask'],\n",
       "      dtype='object')"
      ]
     },
     "execution_count": 47,
     "metadata": {},
     "output_type": "execute_result"
    }
   ],
   "source": [
    "df.columns"
   ]
  },
  {
   "cell_type": "markdown",
   "metadata": {
    "id": "59MYGdLnkBHK"
   },
   "source": [
    "### Observation\n",
    "<p> THe task of  predicting the labels for a movie will best achieved if we use the \"plot_long\" column. The reason for choosing this column is that our model requires some contextual information about the movie, to learn about the different genres present. \"plot_long\" provides us with more information compared to \"plot_short\".\n",
    "\n"
   ]
  },
  {
   "cell_type": "code",
   "execution_count": null,
   "metadata": {
    "id": "3e891da7-94b9-4759-8c63-cfd1a0a051de"
   },
   "outputs": [],
   "source": [
    "columns_to_drop = ['title','release_year','release_date','runtime','plot_short','plot_long','imdb_rating','num_imdb_votes','num_user_reviews','num_critic_reviews']\n",
    "df_modified = df.drop(columns_to_drop, axis=1)"
   ]
  },
  {
   "cell_type": "code",
   "execution_count": null,
   "metadata": {
    "id": "a9d46ff7-eaec-4903-bab9-5adf36a21099",
    "outputId": "cdb745cd-05d5-415d-d847-f74a9e3a6ce2"
   },
   "outputs": [
    {
     "data": {
      "text/html": [
       "<div>\n",
       "<style scoped>\n",
       "    .dataframe tbody tr th:only-of-type {\n",
       "        vertical-align: middle;\n",
       "    }\n",
       "\n",
       "    .dataframe tbody tr th {\n",
       "        vertical-align: top;\n",
       "    }\n",
       "\n",
       "    .dataframe thead th {\n",
       "        text-align: right;\n",
       "    }\n",
       "</style>\n",
       "<table border=\"1\" class=\"dataframe\">\n",
       "  <thead>\n",
       "    <tr style=\"text-align: right;\">\n",
       "      <th></th>\n",
       "      <th>genre</th>\n",
       "      <th>tokens</th>\n",
       "      <th>input_ids</th>\n",
       "      <th>attention_mask</th>\n",
       "    </tr>\n",
       "  </thead>\n",
       "  <tbody>\n",
       "    <tr>\n",
       "      <th>0</th>\n",
       "      <td>['fantasy', 'horror', 'mystery', 'thriller']</td>\n",
       "      <td>[francis, ,, a, young, man, ,, recalls, in, hi...</td>\n",
       "      <td>[4557, 1010, 1037, 2402, 2158, 1010, 17722, 19...</td>\n",
       "      <td>[1, 1, 1, 1, 1, 1, 1, 1, 1, 1, 1, 1, 1, 1, 1, ...</td>\n",
       "    </tr>\n",
       "    <tr>\n",
       "      <th>1</th>\n",
       "      <td>['fantasy', 'horror']</td>\n",
       "      <td>[in, 16th, -, century, prague, ,, a, rabbi, cr...</td>\n",
       "      <td>[1999, 5767, 1011, 2301, 8634, 1010, 1037, 790...</td>\n",
       "      <td>[1, 1, 1, 1, 1, 1, 1, 1, 1, 1, 1, 1, 1, 1, 1, ...</td>\n",
       "    </tr>\n",
       "    <tr>\n",
       "      <th>2</th>\n",
       "      <td>['drama', 'romance']</td>\n",
       "      <td>[the, call, ##ous, rich, ,, portrayed, by, len...</td>\n",
       "      <td>[1996, 2655, 3560, 4138, 1010, 6791, 2011, 210...</td>\n",
       "      <td>[1, 1, 1, 1, 1, 1, 1, 1, 1, 1, 1, 1, 1, 1, 1, ...</td>\n",
       "    </tr>\n",
       "  </tbody>\n",
       "</table>\n",
       "</div>"
      ],
      "text/plain": [
       "                                          genre  \\\n",
       "0  ['fantasy', 'horror', 'mystery', 'thriller']   \n",
       "1                         ['fantasy', 'horror']   \n",
       "2                          ['drama', 'romance']   \n",
       "\n",
       "                                              tokens  \\\n",
       "0  [francis, ,, a, young, man, ,, recalls, in, hi...   \n",
       "1  [in, 16th, -, century, prague, ,, a, rabbi, cr...   \n",
       "2  [the, call, ##ous, rich, ,, portrayed, by, len...   \n",
       "\n",
       "                                           input_ids  \\\n",
       "0  [4557, 1010, 1037, 2402, 2158, 1010, 17722, 19...   \n",
       "1  [1999, 5767, 1011, 2301, 8634, 1010, 1037, 790...   \n",
       "2  [1996, 2655, 3560, 4138, 1010, 6791, 2011, 210...   \n",
       "\n",
       "                                      attention_mask  \n",
       "0  [1, 1, 1, 1, 1, 1, 1, 1, 1, 1, 1, 1, 1, 1, 1, ...  \n",
       "1  [1, 1, 1, 1, 1, 1, 1, 1, 1, 1, 1, 1, 1, 1, 1, ...  \n",
       "2  [1, 1, 1, 1, 1, 1, 1, 1, 1, 1, 1, 1, 1, 1, 1, ...  "
      ]
     },
     "execution_count": 49,
     "metadata": {},
     "output_type": "execute_result"
    }
   ],
   "source": [
    "df_modified.head(3)"
   ]
  },
  {
   "cell_type": "code",
   "execution_count": null,
   "metadata": {
    "id": "353f9d8e-0478-486a-b455-2aa8fae42899",
    "outputId": "908ed229-deb1-49cd-9e5c-e4a0e3582089"
   },
   "outputs": [
    {
     "data": {
      "text/html": [
       "<div>\n",
       "<style scoped>\n",
       "    .dataframe tbody tr th:only-of-type {\n",
       "        vertical-align: middle;\n",
       "    }\n",
       "\n",
       "    .dataframe tbody tr th {\n",
       "        vertical-align: top;\n",
       "    }\n",
       "\n",
       "    .dataframe thead th {\n",
       "        text-align: right;\n",
       "    }\n",
       "</style>\n",
       "<table border=\"1\" class=\"dataframe\">\n",
       "  <thead>\n",
       "    <tr style=\"text-align: right;\">\n",
       "      <th></th>\n",
       "      <th>genre</th>\n",
       "      <th>tokens</th>\n",
       "      <th>input_ids</th>\n",
       "      <th>attention_mask</th>\n",
       "    </tr>\n",
       "  </thead>\n",
       "  <tbody>\n",
       "    <tr>\n",
       "      <th>0</th>\n",
       "      <td>[fantasy, horror, mystery, thriller]</td>\n",
       "      <td>[francis, ,, a, young, man, ,, recalls, in, hi...</td>\n",
       "      <td>[4557, 1010, 1037, 2402, 2158, 1010, 17722, 19...</td>\n",
       "      <td>[1, 1, 1, 1, 1, 1, 1, 1, 1, 1, 1, 1, 1, 1, 1, ...</td>\n",
       "    </tr>\n",
       "    <tr>\n",
       "      <th>1</th>\n",
       "      <td>[fantasy, horror]</td>\n",
       "      <td>[in, 16th, -, century, prague, ,, a, rabbi, cr...</td>\n",
       "      <td>[1999, 5767, 1011, 2301, 8634, 1010, 1037, 790...</td>\n",
       "      <td>[1, 1, 1, 1, 1, 1, 1, 1, 1, 1, 1, 1, 1, 1, 1, ...</td>\n",
       "    </tr>\n",
       "    <tr>\n",
       "      <th>2</th>\n",
       "      <td>[drama, romance]</td>\n",
       "      <td>[the, call, ##ous, rich, ,, portrayed, by, len...</td>\n",
       "      <td>[1996, 2655, 3560, 4138, 1010, 6791, 2011, 210...</td>\n",
       "      <td>[1, 1, 1, 1, 1, 1, 1, 1, 1, 1, 1, 1, 1, 1, 1, ...</td>\n",
       "    </tr>\n",
       "    <tr>\n",
       "      <th>3</th>\n",
       "      <td>[drama, horror, sci-fi]</td>\n",
       "      <td>[based, on, the, robert, louis, stevenson, sto...</td>\n",
       "      <td>[2241, 2006, 1996, 2728, 3434, 13636, 2466, 10...</td>\n",
       "      <td>[1, 1, 1, 1, 1, 1, 1, 1, 1, 1, 1, 1, 1, 1, 1, ...</td>\n",
       "    </tr>\n",
       "  </tbody>\n",
       "</table>\n",
       "</div>"
      ],
      "text/plain": [
       "                                  genre  \\\n",
       "0  [fantasy, horror, mystery, thriller]   \n",
       "1                     [fantasy, horror]   \n",
       "2                      [drama, romance]   \n",
       "3               [drama, horror, sci-fi]   \n",
       "\n",
       "                                              tokens  \\\n",
       "0  [francis, ,, a, young, man, ,, recalls, in, hi...   \n",
       "1  [in, 16th, -, century, prague, ,, a, rabbi, cr...   \n",
       "2  [the, call, ##ous, rich, ,, portrayed, by, len...   \n",
       "3  [based, on, the, robert, louis, stevenson, sto...   \n",
       "\n",
       "                                           input_ids  \\\n",
       "0  [4557, 1010, 1037, 2402, 2158, 1010, 17722, 19...   \n",
       "1  [1999, 5767, 1011, 2301, 8634, 1010, 1037, 790...   \n",
       "2  [1996, 2655, 3560, 4138, 1010, 6791, 2011, 210...   \n",
       "3  [2241, 2006, 1996, 2728, 3434, 13636, 2466, 10...   \n",
       "\n",
       "                                      attention_mask  \n",
       "0  [1, 1, 1, 1, 1, 1, 1, 1, 1, 1, 1, 1, 1, 1, 1, ...  \n",
       "1  [1, 1, 1, 1, 1, 1, 1, 1, 1, 1, 1, 1, 1, 1, 1, ...  \n",
       "2  [1, 1, 1, 1, 1, 1, 1, 1, 1, 1, 1, 1, 1, 1, 1, ...  \n",
       "3  [1, 1, 1, 1, 1, 1, 1, 1, 1, 1, 1, 1, 1, 1, 1, ...  "
      ]
     },
     "execution_count": 50,
     "metadata": {},
     "output_type": "execute_result"
    }
   ],
   "source": [
    "total_list = []\n",
    "for labels in df_modified[\"genre\"]:\n",
    "  labels_list = eval(labels.strip(\"[]\"))\n",
    "  total_list.append(list(labels_list))\n",
    "df_modified['genre'] = total_list\n",
    "df_modified.head(4)"
   ]
  },
  {
   "cell_type": "markdown",
   "metadata": {
    "id": "amv7i6IrlODx"
   },
   "source": [
    "### Observation\n",
    "<p> Our Final Dataset is now ready for training. </p>"
   ]
  },
  {
   "cell_type": "markdown",
   "metadata": {
    "id": "ZUSxnIYbllHy"
   },
   "source": [
    "## Initializing the MultilabelBinazier"
   ]
  },
  {
   "cell_type": "code",
   "execution_count": null,
   "metadata": {
    "id": "e5356713-feb2-4c7b-9c04-35ad898f81af"
   },
   "outputs": [],
   "source": [
    "from sklearn.preprocessing import MultiLabelBinarizer\n",
    "mlb = MultiLabelBinarizer()"
   ]
  },
  {
   "cell_type": "code",
   "execution_count": null,
   "metadata": {
    "id": "60cc43bb-4ea5-4137-b88f-d62b84f3dbc8",
    "outputId": "81c75b1f-7124-4c03-d15d-cd606bec0270"
   },
   "outputs": [
    {
     "data": {
      "text/plain": [
       "0    [fantasy, horror, mystery, thriller]\n",
       "1                       [fantasy, horror]\n",
       "2                        [drama, romance]\n",
       "Name: genre, dtype: object"
      ]
     },
     "execution_count": 55,
     "metadata": {},
     "output_type": "execute_result"
    }
   ],
   "source": [
    "df_modified[\"genre\"][0:3]"
   ]
  },
  {
   "cell_type": "code",
   "execution_count": null,
   "metadata": {
    "id": "360de818-5931-44c3-a540-1c3de071adbc"
   },
   "outputs": [],
   "source": [
    "mlb.fit(df_modified['genre'])\n",
    "# Transform the multi-label data into a sparse OHE representation\n",
    "target_ohe = mlb.transform(df_modified['genre'])"
   ]
  },
  {
   "cell_type": "markdown",
   "metadata": {
    "id": "BCG5ehv7l09q"
   },
   "source": [
    "### Observation\n",
    "<p> We transform our genres into One Hot Encoded Vector representations for model training."
   ]
  },
  {
   "cell_type": "code",
   "execution_count": null,
   "metadata": {
    "id": "4c46e394-19b2-4366-a8d8-7e96b69ea07a",
    "outputId": "0e493d10-c931-48b6-cce6-c3f176387d0c"
   },
   "outputs": [
    {
     "data": {
      "text/html": [
       "<div>\n",
       "<style scoped>\n",
       "    .dataframe tbody tr th:only-of-type {\n",
       "        vertical-align: middle;\n",
       "    }\n",
       "\n",
       "    .dataframe tbody tr th {\n",
       "        vertical-align: top;\n",
       "    }\n",
       "\n",
       "    .dataframe thead th {\n",
       "        text-align: right;\n",
       "    }\n",
       "</style>\n",
       "<table border=\"1\" class=\"dataframe\">\n",
       "  <thead>\n",
       "    <tr style=\"text-align: right;\">\n",
       "      <th></th>\n",
       "      <th>genre</th>\n",
       "      <th>tokens</th>\n",
       "      <th>input_ids</th>\n",
       "      <th>attention_mask</th>\n",
       "    </tr>\n",
       "  </thead>\n",
       "  <tbody>\n",
       "    <tr>\n",
       "      <th>0</th>\n",
       "      <td>[fantasy, horror, mystery, thriller]</td>\n",
       "      <td>[francis, ,, a, young, man, ,, recalls, in, hi...</td>\n",
       "      <td>[4557, 1010, 1037, 2402, 2158, 1010, 17722, 19...</td>\n",
       "      <td>[1, 1, 1, 1, 1, 1, 1, 1, 1, 1, 1, 1, 1, 1, 1, ...</td>\n",
       "    </tr>\n",
       "    <tr>\n",
       "      <th>1</th>\n",
       "      <td>[fantasy, horror]</td>\n",
       "      <td>[in, 16th, -, century, prague, ,, a, rabbi, cr...</td>\n",
       "      <td>[1999, 5767, 1011, 2301, 8634, 1010, 1037, 790...</td>\n",
       "      <td>[1, 1, 1, 1, 1, 1, 1, 1, 1, 1, 1, 1, 1, 1, 1, ...</td>\n",
       "    </tr>\n",
       "    <tr>\n",
       "      <th>2</th>\n",
       "      <td>[drama, romance]</td>\n",
       "      <td>[the, call, ##ous, rich, ,, portrayed, by, len...</td>\n",
       "      <td>[1996, 2655, 3560, 4138, 1010, 6791, 2011, 210...</td>\n",
       "      <td>[1, 1, 1, 1, 1, 1, 1, 1, 1, 1, 1, 1, 1, 1, 1, ...</td>\n",
       "    </tr>\n",
       "  </tbody>\n",
       "</table>\n",
       "</div>"
      ],
      "text/plain": [
       "                                  genre  \\\n",
       "0  [fantasy, horror, mystery, thriller]   \n",
       "1                     [fantasy, horror]   \n",
       "2                      [drama, romance]   \n",
       "\n",
       "                                              tokens  \\\n",
       "0  [francis, ,, a, young, man, ,, recalls, in, hi...   \n",
       "1  [in, 16th, -, century, prague, ,, a, rabbi, cr...   \n",
       "2  [the, call, ##ous, rich, ,, portrayed, by, len...   \n",
       "\n",
       "                                           input_ids  \\\n",
       "0  [4557, 1010, 1037, 2402, 2158, 1010, 17722, 19...   \n",
       "1  [1999, 5767, 1011, 2301, 8634, 1010, 1037, 790...   \n",
       "2  [1996, 2655, 3560, 4138, 1010, 6791, 2011, 210...   \n",
       "\n",
       "                                      attention_mask  \n",
       "0  [1, 1, 1, 1, 1, 1, 1, 1, 1, 1, 1, 1, 1, 1, 1, ...  \n",
       "1  [1, 1, 1, 1, 1, 1, 1, 1, 1, 1, 1, 1, 1, 1, 1, ...  \n",
       "2  [1, 1, 1, 1, 1, 1, 1, 1, 1, 1, 1, 1, 1, 1, 1, ...  "
      ]
     },
     "execution_count": 57,
     "metadata": {},
     "output_type": "execute_result"
    }
   ],
   "source": [
    "df_modified.head(3)"
   ]
  },
  {
   "cell_type": "code",
   "execution_count": null,
   "metadata": {
    "id": "360f6f6a-cf96-4e8f-a816-7a57bd270df1"
   },
   "outputs": [],
   "source": [
    "target_df = pd.DataFrame(target_ohe)\n",
    "df_combined = pd.concat([df_modified, target_df], axis=1)"
   ]
  },
  {
   "cell_type": "code",
   "execution_count": null,
   "metadata": {
    "id": "9488b833-79ff-4277-b563-29f7d1d93377",
    "outputId": "815a8e7b-1a1d-4963-d5fb-2cd2b0626680"
   },
   "outputs": [
    {
     "data": {
      "text/html": [
       "<div>\n",
       "<style scoped>\n",
       "    .dataframe tbody tr th:only-of-type {\n",
       "        vertical-align: middle;\n",
       "    }\n",
       "\n",
       "    .dataframe tbody tr th {\n",
       "        vertical-align: top;\n",
       "    }\n",
       "\n",
       "    .dataframe thead th {\n",
       "        text-align: right;\n",
       "    }\n",
       "</style>\n",
       "<table border=\"1\" class=\"dataframe\">\n",
       "  <thead>\n",
       "    <tr style=\"text-align: right;\">\n",
       "      <th></th>\n",
       "      <th>genre</th>\n",
       "      <th>tokens</th>\n",
       "      <th>input_ids</th>\n",
       "      <th>attention_mask</th>\n",
       "      <th>0</th>\n",
       "      <th>1</th>\n",
       "      <th>2</th>\n",
       "      <th>3</th>\n",
       "      <th>4</th>\n",
       "      <th>5</th>\n",
       "      <th>...</th>\n",
       "      <th>34</th>\n",
       "      <th>35</th>\n",
       "      <th>36</th>\n",
       "      <th>37</th>\n",
       "      <th>38</th>\n",
       "      <th>39</th>\n",
       "      <th>40</th>\n",
       "      <th>41</th>\n",
       "      <th>42</th>\n",
       "      <th>43</th>\n",
       "    </tr>\n",
       "  </thead>\n",
       "  <tbody>\n",
       "    <tr>\n",
       "      <th>0</th>\n",
       "      <td>[fantasy, horror, mystery, thriller]</td>\n",
       "      <td>[francis, ,, a, young, man, ,, recalls, in, hi...</td>\n",
       "      <td>[4557, 1010, 1037, 2402, 2158, 1010, 17722, 19...</td>\n",
       "      <td>[1, 1, 1, 1, 1, 1, 1, 1, 1, 1, 1, 1, 1, 1, 1, ...</td>\n",
       "      <td>0</td>\n",
       "      <td>0</td>\n",
       "      <td>0</td>\n",
       "      <td>0</td>\n",
       "      <td>0</td>\n",
       "      <td>0</td>\n",
       "      <td>...</td>\n",
       "      <td>0</td>\n",
       "      <td>0</td>\n",
       "      <td>0</td>\n",
       "      <td>1</td>\n",
       "      <td>0</td>\n",
       "      <td>0</td>\n",
       "      <td>0</td>\n",
       "      <td>0</td>\n",
       "      <td>0</td>\n",
       "      <td>0</td>\n",
       "    </tr>\n",
       "    <tr>\n",
       "      <th>1</th>\n",
       "      <td>[fantasy, horror]</td>\n",
       "      <td>[in, 16th, -, century, prague, ,, a, rabbi, cr...</td>\n",
       "      <td>[1999, 5767, 1011, 2301, 8634, 1010, 1037, 790...</td>\n",
       "      <td>[1, 1, 1, 1, 1, 1, 1, 1, 1, 1, 1, 1, 1, 1, 1, ...</td>\n",
       "      <td>0</td>\n",
       "      <td>0</td>\n",
       "      <td>0</td>\n",
       "      <td>0</td>\n",
       "      <td>0</td>\n",
       "      <td>0</td>\n",
       "      <td>...</td>\n",
       "      <td>0</td>\n",
       "      <td>0</td>\n",
       "      <td>0</td>\n",
       "      <td>0</td>\n",
       "      <td>0</td>\n",
       "      <td>0</td>\n",
       "      <td>0</td>\n",
       "      <td>0</td>\n",
       "      <td>0</td>\n",
       "      <td>0</td>\n",
       "    </tr>\n",
       "  </tbody>\n",
       "</table>\n",
       "<p>2 rows × 48 columns</p>\n",
       "</div>"
      ],
      "text/plain": [
       "                                  genre  \\\n",
       "0  [fantasy, horror, mystery, thriller]   \n",
       "1                     [fantasy, horror]   \n",
       "\n",
       "                                              tokens  \\\n",
       "0  [francis, ,, a, young, man, ,, recalls, in, hi...   \n",
       "1  [in, 16th, -, century, prague, ,, a, rabbi, cr...   \n",
       "\n",
       "                                           input_ids  \\\n",
       "0  [4557, 1010, 1037, 2402, 2158, 1010, 17722, 19...   \n",
       "1  [1999, 5767, 1011, 2301, 8634, 1010, 1037, 790...   \n",
       "\n",
       "                                      attention_mask  0  1  2  3  4  5  ...  \\\n",
       "0  [1, 1, 1, 1, 1, 1, 1, 1, 1, 1, 1, 1, 1, 1, 1, ...  0  0  0  0  0  0  ...   \n",
       "1  [1, 1, 1, 1, 1, 1, 1, 1, 1, 1, 1, 1, 1, 1, 1, ...  0  0  0  0  0  0  ...   \n",
       "\n",
       "   34  35  36  37  38  39  40  41  42  43  \n",
       "0   0   0   0   1   0   0   0   0   0   0  \n",
       "1   0   0   0   0   0   0   0   0   0   0  \n",
       "\n",
       "[2 rows x 48 columns]"
      ]
     },
     "execution_count": 59,
     "metadata": {},
     "output_type": "execute_result"
    }
   ],
   "source": [
    "df_combined.head(2)"
   ]
  },
  {
   "cell_type": "code",
   "execution_count": null,
   "metadata": {
    "id": "c0f9720c-0f73-4d60-88cf-4e251d8c8b00"
   },
   "outputs": [],
   "source": [
    "df_combined = df_combined.drop(['genre'],axis=1)"
   ]
  },
  {
   "cell_type": "markdown",
   "metadata": {
    "id": "EqHBGjI5mD5P"
   },
   "source": [
    "### Observation\n",
    "<p> Our Final dataset is now ready with input_ids, attention_mask, tokens and OHE represented values of target variables (genres)"
   ]
  },
  {
   "cell_type": "code",
   "execution_count": null,
   "metadata": {
    "id": "d263917d-a934-4764-8cf5-98053d53bb03",
    "outputId": "6a345b85-10ec-45d3-a833-bd998310a14c"
   },
   "outputs": [
    {
     "data": {
      "text/html": [
       "<div>\n",
       "<style scoped>\n",
       "    .dataframe tbody tr th:only-of-type {\n",
       "        vertical-align: middle;\n",
       "    }\n",
       "\n",
       "    .dataframe tbody tr th {\n",
       "        vertical-align: top;\n",
       "    }\n",
       "\n",
       "    .dataframe thead th {\n",
       "        text-align: right;\n",
       "    }\n",
       "</style>\n",
       "<table border=\"1\" class=\"dataframe\">\n",
       "  <thead>\n",
       "    <tr style=\"text-align: right;\">\n",
       "      <th></th>\n",
       "      <th>tokens</th>\n",
       "      <th>input_ids</th>\n",
       "      <th>attention_mask</th>\n",
       "      <th>0</th>\n",
       "      <th>1</th>\n",
       "      <th>2</th>\n",
       "      <th>3</th>\n",
       "      <th>4</th>\n",
       "      <th>5</th>\n",
       "      <th>6</th>\n",
       "      <th>...</th>\n",
       "      <th>34</th>\n",
       "      <th>35</th>\n",
       "      <th>36</th>\n",
       "      <th>37</th>\n",
       "      <th>38</th>\n",
       "      <th>39</th>\n",
       "      <th>40</th>\n",
       "      <th>41</th>\n",
       "      <th>42</th>\n",
       "      <th>43</th>\n",
       "    </tr>\n",
       "  </thead>\n",
       "  <tbody>\n",
       "    <tr>\n",
       "      <th>0</th>\n",
       "      <td>[francis, ,, a, young, man, ,, recalls, in, hi...</td>\n",
       "      <td>[4557, 1010, 1037, 2402, 2158, 1010, 17722, 19...</td>\n",
       "      <td>[1, 1, 1, 1, 1, 1, 1, 1, 1, 1, 1, 1, 1, 1, 1, ...</td>\n",
       "      <td>0</td>\n",
       "      <td>0</td>\n",
       "      <td>0</td>\n",
       "      <td>0</td>\n",
       "      <td>0</td>\n",
       "      <td>0</td>\n",
       "      <td>0</td>\n",
       "      <td>...</td>\n",
       "      <td>0</td>\n",
       "      <td>0</td>\n",
       "      <td>0</td>\n",
       "      <td>1</td>\n",
       "      <td>0</td>\n",
       "      <td>0</td>\n",
       "      <td>0</td>\n",
       "      <td>0</td>\n",
       "      <td>0</td>\n",
       "      <td>0</td>\n",
       "    </tr>\n",
       "    <tr>\n",
       "      <th>1</th>\n",
       "      <td>[in, 16th, -, century, prague, ,, a, rabbi, cr...</td>\n",
       "      <td>[1999, 5767, 1011, 2301, 8634, 1010, 1037, 790...</td>\n",
       "      <td>[1, 1, 1, 1, 1, 1, 1, 1, 1, 1, 1, 1, 1, 1, 1, ...</td>\n",
       "      <td>0</td>\n",
       "      <td>0</td>\n",
       "      <td>0</td>\n",
       "      <td>0</td>\n",
       "      <td>0</td>\n",
       "      <td>0</td>\n",
       "      <td>0</td>\n",
       "      <td>...</td>\n",
       "      <td>0</td>\n",
       "      <td>0</td>\n",
       "      <td>0</td>\n",
       "      <td>0</td>\n",
       "      <td>0</td>\n",
       "      <td>0</td>\n",
       "      <td>0</td>\n",
       "      <td>0</td>\n",
       "      <td>0</td>\n",
       "      <td>0</td>\n",
       "    </tr>\n",
       "  </tbody>\n",
       "</table>\n",
       "<p>2 rows × 47 columns</p>\n",
       "</div>"
      ],
      "text/plain": [
       "                                              tokens  \\\n",
       "0  [francis, ,, a, young, man, ,, recalls, in, hi...   \n",
       "1  [in, 16th, -, century, prague, ,, a, rabbi, cr...   \n",
       "\n",
       "                                           input_ids  \\\n",
       "0  [4557, 1010, 1037, 2402, 2158, 1010, 17722, 19...   \n",
       "1  [1999, 5767, 1011, 2301, 8634, 1010, 1037, 790...   \n",
       "\n",
       "                                      attention_mask  0  1  2  3  4  5  6  \\\n",
       "0  [1, 1, 1, 1, 1, 1, 1, 1, 1, 1, 1, 1, 1, 1, 1, ...  0  0  0  0  0  0  0   \n",
       "1  [1, 1, 1, 1, 1, 1, 1, 1, 1, 1, 1, 1, 1, 1, 1, ...  0  0  0  0  0  0  0   \n",
       "\n",
       "   ...  34  35  36  37  38  39  40  41  42  43  \n",
       "0  ...   0   0   0   1   0   0   0   0   0   0  \n",
       "1  ...   0   0   0   0   0   0   0   0   0   0  \n",
       "\n",
       "[2 rows x 47 columns]"
      ]
     },
     "execution_count": 61,
     "metadata": {},
     "output_type": "execute_result"
    }
   ],
   "source": [
    "df_combined.head(2)"
   ]
  },
  {
   "cell_type": "markdown",
   "metadata": {
    "id": "rk08CvF1ma5Z"
   },
   "source": [
    "## 2. Splitting Data into Train and Test Dataframes"
   ]
  },
  {
   "cell_type": "code",
   "execution_count": null,
   "metadata": {
    "id": "1bf103a3-0985-41c0-bda6-bbed490cde75",
    "outputId": "dcea854e-6f00-46fb-af7f-a9106d17e9f5"
   },
   "outputs": [
    {
     "name": "stdout",
     "output_type": "stream",
     "text": [
      "Training data shapes:\n",
      "(22531, 3)\n",
      "(22531, 44)\n",
      "Testing data shapes:\n",
      "(7511, 3)\n",
      "(7511, 44)\n"
     ]
    }
   ],
   "source": [
    "from sklearn.model_selection import train_test_split\n",
    "\n",
    "X = df_combined[['tokens', 'input_ids', 'attention_mask']]  # Features\n",
    "y = df_combined.iloc[:, 3:]  # Target variables (all columns from index 3 onwards)\n",
    "X_train, X_test, y_train, y_test = train_test_split(X, y, test_size=0.25, random_state=42)\n",
    "\n",
    "print(\"Training data shapes:\")\n",
    "print(X_train.shape)\n",
    "print(y_train.shape)\n",
    "\n",
    "print(\"Testing data shapes:\")\n",
    "print(X_test.shape)\n",
    "print(y_test.shape)"
   ]
  },
  {
   "cell_type": "markdown",
   "metadata": {
    "id": "qBUkbaHCmnyw"
   },
   "source": [
    "### Observation\n",
    "<p> Our dataset has 44 total differrent genres present. We have alloted 25% of the total data to our test dataset. We will train oour model on the remaining 75% of the data."
   ]
  },
  {
   "cell_type": "code",
   "execution_count": null,
   "metadata": {
    "id": "e0559d8e-54f6-4581-a895-8d0139caf8be",
    "outputId": "7cb62c25-0bb6-41c9-985b-d572d02bda54"
   },
   "outputs": [
    {
     "data": {
      "text/html": [
       "<div>\n",
       "<style scoped>\n",
       "    .dataframe tbody tr th:only-of-type {\n",
       "        vertical-align: middle;\n",
       "    }\n",
       "\n",
       "    .dataframe tbody tr th {\n",
       "        vertical-align: top;\n",
       "    }\n",
       "\n",
       "    .dataframe thead th {\n",
       "        text-align: right;\n",
       "    }\n",
       "</style>\n",
       "<table border=\"1\" class=\"dataframe\">\n",
       "  <thead>\n",
       "    <tr style=\"text-align: right;\">\n",
       "      <th></th>\n",
       "      <th>tokens</th>\n",
       "      <th>input_ids</th>\n",
       "      <th>attention_mask</th>\n",
       "    </tr>\n",
       "  </thead>\n",
       "  <tbody>\n",
       "    <tr>\n",
       "      <th>1261</th>\n",
       "      <td>[bog, ##art, plays, a, man, convicted, of, mur...</td>\n",
       "      <td>[22132, 8445, 3248, 1037, 2158, 7979, 1997, 21...</td>\n",
       "      <td>[1, 1, 1, 1, 1, 1, 1, 1, 1, 1, 1, 1, 1, 1, 1, ...</td>\n",
       "    </tr>\n",
       "    <tr>\n",
       "      <th>11417</th>\n",
       "      <td>[a, modest, man, is, suddenly, seized, from, h...</td>\n",
       "      <td>[1037, 10754, 2158, 2003, 3402, 8243, 2013, 20...</td>\n",
       "      <td>[1, 1, 1, 1, 1, 1, 1, 1, 1, 1, 1, 1, 1, 1, 1, ...</td>\n",
       "    </tr>\n",
       "  </tbody>\n",
       "</table>\n",
       "</div>"
      ],
      "text/plain": [
       "                                                  tokens  \\\n",
       "1261   [bog, ##art, plays, a, man, convicted, of, mur...   \n",
       "11417  [a, modest, man, is, suddenly, seized, from, h...   \n",
       "\n",
       "                                               input_ids  \\\n",
       "1261   [22132, 8445, 3248, 1037, 2158, 7979, 1997, 21...   \n",
       "11417  [1037, 10754, 2158, 2003, 3402, 8243, 2013, 20...   \n",
       "\n",
       "                                          attention_mask  \n",
       "1261   [1, 1, 1, 1, 1, 1, 1, 1, 1, 1, 1, 1, 1, 1, 1, ...  \n",
       "11417  [1, 1, 1, 1, 1, 1, 1, 1, 1, 1, 1, 1, 1, 1, 1, ...  "
      ]
     },
     "execution_count": 63,
     "metadata": {},
     "output_type": "execute_result"
    }
   ],
   "source": [
    "X_train.head(2)"
   ]
  },
  {
   "cell_type": "markdown",
   "metadata": {
    "id": "0IVKlODcncy7"
   },
   "source": [
    "## 3. Auto ML"
   ]
  },
  {
   "cell_type": "code",
   "execution_count": null,
   "metadata": {
    "id": "04f9d2a4-f041-4b04-b8cb-acf625919a2d"
   },
   "outputs": [],
   "source": [
    "import torch\n",
    "from torch.utils.data import Dataset"
   ]
  },
  {
   "cell_type": "code",
   "execution_count": null,
   "metadata": {
    "id": "b7fb4b92-307e-4cc6-bcaf-1f8e598b1fcc"
   },
   "outputs": [],
   "source": [
    "class CustomDataset(Dataset):\n",
    "  def __init__(self, input_ids, attention_mask, labels):\n",
    "      self.input_ids = input_ids\n",
    "      self.attention_mask = attention_mask\n",
    "      self.labels = labels\n",
    "\n",
    "  def __len__(self):\n",
    "      return len(self.input_ids)\n",
    "\n",
    "  def __getitem__(self, idx):\n",
    "      item = {\n",
    "          'input_ids': torch.tensor(self.input_ids[idx], dtype=torch.long),\n",
    "          'attention_mask': torch.tensor(self.attention_mask[idx], dtype=torch.long),\n",
    "          'labels': torch.tensor(self.labels[idx], dtype=torch.float)\n",
    "      }\n",
    "      return item"
   ]
  },
  {
   "cell_type": "code",
   "execution_count": null,
   "metadata": {
    "id": "fb02761e-3734-4569-a0ae-7a9d659ba982"
   },
   "outputs": [],
   "source": [
    "train_dataset = CustomDataset(\n",
    "    input_ids=X_train['input_ids'].tolist(),\n",
    "    attention_mask=X_train['attention_mask'].tolist(),\n",
    "    labels=y_train.values.tolist()\n",
    ")\n",
    "test_dataset = CustomDataset(\n",
    "    input_ids=X_test['input_ids'].tolist(),\n",
    "    attention_mask=X_test['attention_mask'].tolist(),\n",
    "    labels= y_test.values.tolist()\n",
    ")"
   ]
  },
  {
   "cell_type": "code",
   "execution_count": null,
   "metadata": {
    "colab": {
     "referenced_widgets": [
      "25c5d12bf619468fb6d5a7b19a3be032"
     ]
    },
    "id": "03a46c66-0f14-4c21-96bf-c2b5d186fed8",
    "outputId": "5ca19e39-0e77-40d4-8fca-d504cc218ddb"
   },
   "outputs": [
    {
     "name": "stderr",
     "output_type": "stream",
     "text": [
      "/usr/local/lib/python3.10/dist-packages/huggingface_hub/file_download.py:1132: FutureWarning: `resume_download` is deprecated and will be removed in version 1.0.0. Downloads always resume when possible. If you want to force a new download, use `force_download=True`.\n",
      "  warnings.warn(\n"
     ]
    },
    {
     "data": {
      "application/vnd.jupyter.widget-view+json": {
       "model_id": "25c5d12bf619468fb6d5a7b19a3be032",
       "version_major": 2,
       "version_minor": 0
      },
      "text/plain": [
       "model.safetensors:   0%|          | 0.00/440M [00:00<?, ?B/s]"
      ]
     },
     "metadata": {},
     "output_type": "display_data"
    },
    {
     "name": "stderr",
     "output_type": "stream",
     "text": [
      "Some weights of BertForSequenceClassification were not initialized from the model checkpoint at bert-base-uncased and are newly initialized: ['classifier.bias', 'classifier.weight']\n",
      "You should probably TRAIN this model on a down-stream task to be able to use it for predictions and inference.\n"
     ]
    }
   ],
   "source": [
    "from transformers import BertForSequenceClassification, BertConfig\n",
    "num_labels = 44  # Set the number of labels\n",
    "# Load BERT with a configuration for multi-label classification\n",
    "config = BertConfig.from_pretrained('bert-base-uncased', num_labels=num_labels, problem_type=\"multi_label_classification\")\n",
    "model = BertForSequenceClassification.from_pretrained('bert-base-uncased', config=config)"
   ]
  },
  {
   "cell_type": "code",
   "execution_count": null,
   "metadata": {
    "id": "af331d12-5009-4e04-9cef-ecf7a3b83106"
   },
   "outputs": [],
   "source": [
    "import optuna\n",
    "from transformers import Trainer, TrainingArguments"
   ]
  },
  {
   "cell_type": "code",
   "execution_count": null,
   "metadata": {
    "id": "99386c22-9fa6-43ed-be26-b961d210addd"
   },
   "outputs": [],
   "source": [
    "def model_init():\n",
    "  return BertForSequenceClassification.from_pretrained('bert-base-uncased', config=config)\n",
    "\n",
    "def hp_space(trial):\n",
    "  return {\n",
    "      'learning_rate': trial.suggest_float('learning_rate', 1e-5, 5e-5, log=True),\n",
    "      'per_device_train_batch_size': trial.suggest_categorical('per_device_train_batch_size', [8, 16, 32]),\n",
    "      'num_train_epochs': trial.suggest_int('num_train_epochs', 2, 4),\n",
    "      'weight_decay': trial.suggest_float('weight_decay', 0.01, 0.3),\n",
    "      'warmup_steps': trial.suggest_int('warmup_steps', 0, 500)\n",
    "  }"
   ]
  },
  {
   "cell_type": "markdown",
   "metadata": {
    "id": "zNEP2cPNnrhW"
   },
   "source": [
    "### Observation\n",
    "<p> In the above given code we are defining the different Hyperparameters for a model e.g learning_rate, weight_decay etc. We will be automating the process of selecting the best hyperparameters tgrough auto Ml. We will select those parameters which give us the least value of Validation loss."
   ]
  },
  {
   "cell_type": "code",
   "execution_count": null,
   "metadata": {
    "id": "9c3c7fca-e88e-4934-a1af-89ff702a9692"
   },
   "outputs": [],
   "source": [
    "def objective(trial):\n",
    "    # Define the training arguments with the hyperparameters from the trial\n",
    "  training_args = TrainingArguments(\n",
    "      output_dir='./results',\n",
    "      learning_rate=trial.suggest_float('learning_rate', 1e-5, 5e-5, log=True),\n",
    "      per_device_train_batch_size=trial.suggest_categorical('per_device_train_batch_size', [8, 16, 32]),\n",
    "      num_train_epochs=trial.suggest_int('num_train_epochs', 2, 4),\n",
    "      weight_decay=trial.suggest_float('weight_decay', 0.01, 0.3),\n",
    "      warmup_steps=trial.suggest_int('warmup_steps', 0, 500),\n",
    "      logging_dir='./logs',\n",
    "      logging_steps=10,\n",
    "      evaluation_strategy=\"epoch\",\n",
    "      save_strategy=\"epoch\",\n",
    "      load_best_model_at_end=True,\n",
    "      metric_for_best_model=\"loss\",\n",
    "  )\n",
    "  trainer = Trainer(\n",
    "        model_init=model_init,\n",
    "        args=training_args,\n",
    "        train_dataset=train_dataset,\n",
    "        eval_dataset=test_dataset,\n",
    "    )\n",
    "  trainer.train()\n",
    "  eval_results = trainer.evaluate()\n",
    "  return eval_results['eval_loss']"
   ]
  },
  {
   "cell_type": "code",
   "execution_count": null,
   "metadata": {
    "id": "5736389e-b6dd-4806-af49-dfd7ecc21164",
    "outputId": "3028be79-ea29-4d3d-98a0-d23d205f86fb"
   },
   "outputs": [
    {
     "name": "stderr",
     "output_type": "stream",
     "text": [
      "[I 2024-06-09 13:52:51,085] A new study created in memory with name: no-name-3ade662b-e9fe-4938-9a05-8754a388342d\n",
      "/usr/local/lib/python3.10/dist-packages/transformers/training_args.py:1474: FutureWarning: `evaluation_strategy` is deprecated and will be removed in version 4.46 of 🤗 Transformers. Use `eval_strategy` instead\n",
      "  warnings.warn(\n",
      "Some weights of BertForSequenceClassification were not initialized from the model checkpoint at bert-base-uncased and are newly initialized: ['classifier.bias', 'classifier.weight']\n",
      "You should probably TRAIN this model on a down-stream task to be able to use it for predictions and inference.\n",
      "Some weights of BertForSequenceClassification were not initialized from the model checkpoint at bert-base-uncased and are newly initialized: ['classifier.bias', 'classifier.weight']\n",
      "You should probably TRAIN this model on a down-stream task to be able to use it for predictions and inference.\n"
     ]
    },
    {
     "data": {
      "text/html": [
       "\n",
       "    <div>\n",
       "      \n",
       "      <progress value='2820' max='2820' style='width:300px; height:20px; vertical-align: middle;'></progress>\n",
       "      [2820/2820 11:50, Epoch 4/4]\n",
       "    </div>\n",
       "    <table border=\"1\" class=\"dataframe\">\n",
       "  <thead>\n",
       " <tr style=\"text-align: left;\">\n",
       "      <th>Epoch</th>\n",
       "      <th>Training Loss</th>\n",
       "      <th>Validation Loss</th>\n",
       "    </tr>\n",
       "  </thead>\n",
       "  <tbody>\n",
       "    <tr>\n",
       "      <td>1</td>\n",
       "      <td>0.231200</td>\n",
       "      <td>0.225708</td>\n",
       "    </tr>\n",
       "    <tr>\n",
       "      <td>2</td>\n",
       "      <td>0.188500</td>\n",
       "      <td>0.198180</td>\n",
       "    </tr>\n",
       "    <tr>\n",
       "      <td>3</td>\n",
       "      <td>0.187000</td>\n",
       "      <td>0.184792</td>\n",
       "    </tr>\n",
       "    <tr>\n",
       "      <td>4</td>\n",
       "      <td>0.167000</td>\n",
       "      <td>0.181537</td>\n",
       "    </tr>\n",
       "  </tbody>\n",
       "</table><p>"
      ],
      "text/plain": [
       "<IPython.core.display.HTML object>"
      ]
     },
     "metadata": {},
     "output_type": "display_data"
    },
    {
     "data": {
      "text/html": [
       "\n",
       "    <div>\n",
       "      \n",
       "      <progress value='939' max='939' style='width:300px; height:20px; vertical-align: middle;'></progress>\n",
       "      [939/939 00:17]\n",
       "    </div>\n",
       "    "
      ],
      "text/plain": [
       "<IPython.core.display.HTML object>"
      ]
     },
     "metadata": {},
     "output_type": "display_data"
    },
    {
     "name": "stderr",
     "output_type": "stream",
     "text": [
      "[I 2024-06-09 14:05:01,531] Trial 0 finished with value: 0.18153683841228485 and parameters: {'learning_rate': 1.2396871191869623e-05, 'per_device_train_batch_size': 32, 'num_train_epochs': 4, 'weight_decay': 0.22045660555177576, 'warmup_steps': 16}. Best is trial 0 with value: 0.18153683841228485.\n",
      "/usr/local/lib/python3.10/dist-packages/transformers/training_args.py:1474: FutureWarning: `evaluation_strategy` is deprecated and will be removed in version 4.46 of 🤗 Transformers. Use `eval_strategy` instead\n",
      "  warnings.warn(\n",
      "Some weights of BertForSequenceClassification were not initialized from the model checkpoint at bert-base-uncased and are newly initialized: ['classifier.bias', 'classifier.weight']\n",
      "You should probably TRAIN this model on a down-stream task to be able to use it for predictions and inference.\n",
      "Some weights of BertForSequenceClassification were not initialized from the model checkpoint at bert-base-uncased and are newly initialized: ['classifier.bias', 'classifier.weight']\n",
      "You should probably TRAIN this model on a down-stream task to be able to use it for predictions and inference.\n"
     ]
    },
    {
     "data": {
      "text/html": [
       "\n",
       "    <div>\n",
       "      \n",
       "      <progress value='1410' max='1410' style='width:300px; height:20px; vertical-align: middle;'></progress>\n",
       "      [1410/1410 06:02, Epoch 2/2]\n",
       "    </div>\n",
       "    <table border=\"1\" class=\"dataframe\">\n",
       "  <thead>\n",
       " <tr style=\"text-align: left;\">\n",
       "      <th>Epoch</th>\n",
       "      <th>Training Loss</th>\n",
       "      <th>Validation Loss</th>\n",
       "    </tr>\n",
       "  </thead>\n",
       "  <tbody>\n",
       "    <tr>\n",
       "      <td>1</td>\n",
       "      <td>0.234400</td>\n",
       "      <td>0.229425</td>\n",
       "    </tr>\n",
       "    <tr>\n",
       "      <td>2</td>\n",
       "      <td>0.210300</td>\n",
       "      <td>0.222243</td>\n",
       "    </tr>\n",
       "  </tbody>\n",
       "</table><p>"
      ],
      "text/plain": [
       "<IPython.core.display.HTML object>"
      ]
     },
     "metadata": {},
     "output_type": "display_data"
    },
    {
     "data": {
      "text/html": [
       "\n",
       "    <div>\n",
       "      \n",
       "      <progress value='939' max='939' style='width:300px; height:20px; vertical-align: middle;'></progress>\n",
       "      [939/939 00:17]\n",
       "    </div>\n",
       "    "
      ],
      "text/plain": [
       "<IPython.core.display.HTML object>"
      ]
     },
     "metadata": {},
     "output_type": "display_data"
    },
    {
     "name": "stderr",
     "output_type": "stream",
     "text": [
      "[I 2024-06-09 14:11:22,820] Trial 1 finished with value: 0.2222432643175125 and parameters: {'learning_rate': 1.3596442178569547e-05, 'per_device_train_batch_size': 32, 'num_train_epochs': 2, 'weight_decay': 0.24928382438741623, 'warmup_steps': 417}. Best is trial 0 with value: 0.18153683841228485.\n"
     ]
    }
   ],
   "source": [
    "study = optuna.create_study(direction='minimize')\n",
    "study.optimize(objective, n_trials=2)"
   ]
  },
  {
   "cell_type": "code",
   "execution_count": null,
   "metadata": {
    "id": "9d621e6e-0c53-424e-8030-ce5bc826eec4",
    "outputId": "5e890fc4-e2f8-4c85-8ee0-4472a6b66578"
   },
   "outputs": [
    {
     "name": "stdout",
     "output_type": "stream",
     "text": [
      "Best Hyperparameters:  {'learning_rate': 1.2396871191869623e-05, 'per_device_train_batch_size': 32, 'num_train_epochs': 4, 'weight_decay': 0.22045660555177576, 'warmup_steps': 16}\n"
     ]
    }
   ],
   "source": [
    "best_hyperparameters = study.best_params\n",
    "print(\"Best Hyperparameters: \", best_hyperparameters)"
   ]
  },
  {
   "cell_type": "markdown",
   "metadata": {
    "id": "YGa6eni1ofnd"
   },
   "source": [
    "### Observation.\n",
    "After running our Bert Model on 2 Epochs of validation data, we found out the following best hyperparameter values\n",
    "\n",
    "1.   learning_rate: 1.2396871191869623e-05\n",
    "2.   num_train_epochs: 4\n",
    "3.   per_device_train_batch_size': 32\n",
    "4.   weight_decay: 0.22045660555177576\n",
    "5.   warmup_steps: 16\n",
    "\n",
    "We will now train our model with these best hyperparameters learned/\n",
    "\n",
    "\n",
    "\n",
    "\n",
    "\n"
   ]
  },
  {
   "cell_type": "code",
   "execution_count": null,
   "metadata": {
    "id": "0dfca8ef-380e-4a37-a4aa-1475caa3fcf2",
    "outputId": "b89bf8fb-daa7-4bcb-a33c-d252c53f2d2e"
   },
   "outputs": [
    {
     "name": "stderr",
     "output_type": "stream",
     "text": [
      "/usr/local/lib/python3.10/dist-packages/transformers/training_args.py:1474: FutureWarning: `evaluation_strategy` is deprecated and will be removed in version 4.46 of 🤗 Transformers. Use `eval_strategy` instead\n",
      "  warnings.warn(\n"
     ]
    }
   ],
   "source": [
    "training_args = TrainingArguments(\n",
    "    output_dir='./results',\n",
    "    learning_rate=best_hyperparameters['learning_rate'],\n",
    "    per_device_train_batch_size=best_hyperparameters['per_device_train_batch_size'],\n",
    "    num_train_epochs=best_hyperparameters['num_train_epochs'],\n",
    "    weight_decay=best_hyperparameters['weight_decay'],\n",
    "    warmup_steps=best_hyperparameters['warmup_steps'],\n",
    "    logging_dir='./logs',\n",
    "    logging_steps=3,\n",
    "    evaluation_strategy=\"epoch\",\n",
    "    save_strategy=\"epoch\",\n",
    "    load_best_model_at_end=True,\n",
    "    metric_for_best_model=\"loss\",\n",
    ")"
   ]
  },
  {
   "cell_type": "code",
   "execution_count": null,
   "metadata": {
    "id": "f985abd6-dd90-44bb-ac1d-150361ee5005",
    "outputId": "e6c0ac35-061a-4530-ccb1-bba4162253e5"
   },
   "outputs": [
    {
     "name": "stderr",
     "output_type": "stream",
     "text": [
      "Some weights of BertForSequenceClassification were not initialized from the model checkpoint at bert-base-uncased and are newly initialized: ['classifier.bias', 'classifier.weight']\n",
      "You should probably TRAIN this model on a down-stream task to be able to use it for predictions and inference.\n"
     ]
    }
   ],
   "source": [
    "# Initialize the Trainer with the best hyperparameters\n",
    "trainer = Trainer(\n",
    "    model=model_init(),  # Ensure you're using the model initialization function\n",
    "    args=training_args,\n",
    "    train_dataset=train_dataset,\n",
    "    eval_dataset=test_dataset,\n",
    ")"
   ]
  },
  {
   "cell_type": "markdown",
   "metadata": {
    "id": "Sm4Ns9eTpZl2"
   },
   "source": [
    "## 4. Model Evaluation"
   ]
  },
  {
   "cell_type": "code",
   "execution_count": null,
   "metadata": {
    "id": "08383f49-1c6d-484d-99a3-4747d84a6987",
    "outputId": "8746f1bd-3cf7-474d-a876-445680a4a162"
   },
   "outputs": [
    {
     "data": {
      "text/html": [
       "\n",
       "    <div>\n",
       "      \n",
       "      <progress value='2820' max='2820' style='width:300px; height:20px; vertical-align: middle;'></progress>\n",
       "      [2820/2820 11:51, Epoch 4/4]\n",
       "    </div>\n",
       "    <table border=\"1\" class=\"dataframe\">\n",
       "  <thead>\n",
       " <tr style=\"text-align: left;\">\n",
       "      <th>Epoch</th>\n",
       "      <th>Training Loss</th>\n",
       "      <th>Validation Loss</th>\n",
       "    </tr>\n",
       "  </thead>\n",
       "  <tbody>\n",
       "    <tr>\n",
       "      <td>1</td>\n",
       "      <td>0.231500</td>\n",
       "      <td>0.217398</td>\n",
       "    </tr>\n",
       "    <tr>\n",
       "      <td>2</td>\n",
       "      <td>0.180400</td>\n",
       "      <td>0.195277</td>\n",
       "    </tr>\n",
       "    <tr>\n",
       "      <td>3</td>\n",
       "      <td>0.210300</td>\n",
       "      <td>0.183971</td>\n",
       "    </tr>\n",
       "    <tr>\n",
       "      <td>4</td>\n",
       "      <td>0.153300</td>\n",
       "      <td>0.181013</td>\n",
       "    </tr>\n",
       "  </tbody>\n",
       "</table><p>"
      ],
      "text/plain": [
       "<IPython.core.display.HTML object>"
      ]
     },
     "metadata": {},
     "output_type": "display_data"
    },
    {
     "data": {
      "text/plain": [
       "TrainOutput(global_step=2820, training_loss=0.20968294984905433, metrics={'train_runtime': 712.0881, 'train_samples_per_second': 126.563, 'train_steps_per_second': 3.96, 'total_flos': 5930390701879296.0, 'train_loss': 0.20968294984905433, 'epoch': 4.0})"
      ]
     },
     "execution_count": 77,
     "metadata": {},
     "output_type": "execute_result"
    }
   ],
   "source": [
    "trainer.train()"
   ]
  },
  {
   "cell_type": "code",
   "execution_count": null,
   "metadata": {
    "colab": {
     "base_uri": "https://localhost:8080/",
     "height": 472
    },
    "id": "cc1hHZ2nr_lx",
    "outputId": "76916612-7b0c-4922-d7f4-1ea2a0bbffe7"
   },
   "outputs": [
    {
     "data": {
      "image/png": "[encoded data removed]",
      "text/plain": [
       "<Figure size 640x480 with 1 Axes>"
      ]
     },
     "metadata": {},
     "output_type": "display_data"
    }
   ],
   "source": [
    "import matplotlib.pyplot as plt\n",
    "training_loss = [0.2315, 0.1804,0.2103,0.1533]\n",
    "val_loss = [0.217398,0.195277,0.183971,0.181013]\n",
    "plt.plot(training_loss, label='Training Loss')\n",
    "plt.plot(val_loss, label='Validation Loss')\n",
    "plt.xlabel('Epoch')\n",
    "plt.ylabel('Loss')\n",
    "plt.title('Training and Validation Loss')\n",
    "plt.legend()\n",
    "plt.show()"
   ]
  },
  {
   "cell_type": "markdown",
   "metadata": {
    "id": "pzy4iweUqM61"
   },
   "source": [
    "### Observation\n",
    "<p> We see that the training and validation loss are in sync with each other. The model is not overfitting and both the training and the validation loss are decreasing in sync with each other. Due to memory constraints we will be training our model for only 2 Epochs </p>"
   ]
  },
  {
   "cell_type": "code",
   "execution_count": null,
   "metadata": {
    "id": "f6bad7bf-86c0-411c-a8ea-c67167bf64a2",
    "outputId": "dd1f5b36-e663-474b-cb77-018cc94c0d9d"
   },
   "outputs": [
    {
     "data": {
      "text/html": [
       "\n",
       "    <div>\n",
       "      \n",
       "      <progress value='939' max='939' style='width:300px; height:20px; vertical-align: middle;'></progress>\n",
       "      [939/939 00:17]\n",
       "    </div>\n",
       "    "
      ],
      "text/plain": [
       "<IPython.core.display.HTML object>"
      ]
     },
     "metadata": {},
     "output_type": "display_data"
    },
    {
     "name": "stdout",
     "output_type": "stream",
     "text": [
      "Evaluation Results:  {'eval_loss': 0.18101342022418976, 'eval_runtime': 17.4255, 'eval_samples_per_second': 431.034, 'eval_steps_per_second': 53.886, 'epoch': 4.0}\n"
     ]
    }
   ],
   "source": [
    "eval_results = trainer.evaluate()\n",
    "print(\"Evaluation Results: \", eval_results)"
   ]
  },
  {
   "cell_type": "markdown",
   "metadata": {
    "id": "_gSR1wxpq5TZ"
   },
   "source": [
    "## 5. Test Data Evaluation"
   ]
  },
  {
   "cell_type": "code",
   "execution_count": null,
   "metadata": {
    "id": "8bb93fdd-546e-4716-a1f1-ab07cf1b7cf2"
   },
   "outputs": [],
   "source": [
    "import random\n",
    "import torch\n",
    "\n",
    "# Number of samples to pick\n",
    "num_samples = 5\n",
    "random_indices = random.sample(range(len(test_dataset)), num_samples)\n",
    "random_samples = [test_dataset[i] for i in random_indices]"
   ]
  },
  {
   "cell_type": "code",
   "execution_count": null,
   "metadata": {
    "id": "6d18513a-a5b3-43d1-93b9-ae01ef88c382"
   },
   "outputs": [],
   "source": [
    "input_ids = torch.stack([sample['input_ids'] for sample in random_samples]).to(model.device)\n",
    "attention_mask = torch.stack([sample['attention_mask'] for sample in random_samples]).to(model.device)"
   ]
  },
  {
   "cell_type": "code",
   "execution_count": null,
   "metadata": {
    "id": "4cfbb123-29bc-4e26-be90-4099ae9ff848",
    "outputId": "94d664a9-2f35-4b35-c2c4-22440f42cc68"
   },
   "outputs": [
    {
     "data": {
      "text/plain": [
       "BertForSequenceClassification(\n",
       "  (bert): BertModel(\n",
       "    (embeddings): BertEmbeddings(\n",
       "      (word_embeddings): Embedding(30522, 768, padding_idx=0)\n",
       "      (position_embeddings): Embedding(512, 768)\n",
       "      (token_type_embeddings): Embedding(2, 768)\n",
       "      (LayerNorm): LayerNorm((768,), eps=1e-12, elementwise_affine=True)\n",
       "      (dropout): Dropout(p=0.1, inplace=False)\n",
       "    )\n",
       "    (encoder): BertEncoder(\n",
       "      (layer): ModuleList(\n",
       "        (0-11): 12 x BertLayer(\n",
       "          (attention): BertAttention(\n",
       "            (self): BertSelfAttention(\n",
       "              (query): Linear(in_features=768, out_features=768, bias=True)\n",
       "              (key): Linear(in_features=768, out_features=768, bias=True)\n",
       "              (value): Linear(in_features=768, out_features=768, bias=True)\n",
       "              (dropout): Dropout(p=0.1, inplace=False)\n",
       "            )\n",
       "            (output): BertSelfOutput(\n",
       "              (dense): Linear(in_features=768, out_features=768, bias=True)\n",
       "              (LayerNorm): LayerNorm((768,), eps=1e-12, elementwise_affine=True)\n",
       "              (dropout): Dropout(p=0.1, inplace=False)\n",
       "            )\n",
       "          )\n",
       "          (intermediate): BertIntermediate(\n",
       "            (dense): Linear(in_features=768, out_features=3072, bias=True)\n",
       "            (intermediate_act_fn): GELUActivation()\n",
       "          )\n",
       "          (output): BertOutput(\n",
       "            (dense): Linear(in_features=3072, out_features=768, bias=True)\n",
       "            (LayerNorm): LayerNorm((768,), eps=1e-12, elementwise_affine=True)\n",
       "            (dropout): Dropout(p=0.1, inplace=False)\n",
       "          )\n",
       "        )\n",
       "      )\n",
       "    )\n",
       "    (pooler): BertPooler(\n",
       "      (dense): Linear(in_features=768, out_features=768, bias=True)\n",
       "      (activation): Tanh()\n",
       "    )\n",
       "  )\n",
       "  (dropout): Dropout(p=0.1, inplace=False)\n",
       "  (classifier): Linear(in_features=768, out_features=44, bias=True)\n",
       ")"
      ]
     },
     "execution_count": 81,
     "metadata": {},
     "output_type": "execute_result"
    }
   ],
   "source": [
    "model.eval()"
   ]
  },
  {
   "cell_type": "code",
   "execution_count": null,
   "metadata": {
    "id": "4f97dd69-45d9-48a2-a7b9-a93dc4839ff8"
   },
   "outputs": [],
   "source": [
    "with torch.no_grad():\n",
    "    outputs = model(input_ids=input_ids, attention_mask=attention_mask)\n",
    "probabilities = torch.sigmoid(outputs.logits)\n",
    "predictions = (probabilities > 0.5).int().cpu().numpy()  # Threshold at 0.5\n",
    "labels = torch.stack([sample['labels'] for sample in random_samples]).cpu().numpy()"
   ]
  },
  {
   "cell_type": "markdown",
   "metadata": {
    "id": "qpF37687rDCi"
   },
   "source": [
    "### Observation\n",
    "<p> We randomly sample 5 test samples from our dataset and check the model performance on them. We can see that the model is predicting some correct instances of genres with some additional noise present. To achieve higher precision on our dataset we need to train this model on more epochs and GPU's"
   ]
  },
  {
   "cell_type": "code",
   "execution_count": null,
   "metadata": {
    "id": "51750e51-b867-4491-a04e-b7cf04c34805",
    "outputId": "9b32f9e0-2441-447b-fb27-77db9c83319d"
   },
   "outputs": [
    {
     "name": "stdout",
     "output_type": "stream",
     "text": [
      "Sample 1:\n",
      "Predicted Labels:  [0 0 1 0 0 0 0 0 0 1 1 0 1 0 1 1 1 0 1 1 0 1 1 1 1 0 0 1 1 1 1 0 1 0 0 0 0\n",
      " 1 1 1 0 1 0 0]\n",
      "Actual Labels:     [0. 0. 0. 0. 0. 0. 1. 0. 1. 0. 0. 0. 0. 0. 0. 0. 0. 0. 0. 0. 0. 0. 0. 0.\n",
      " 0. 1. 1. 0. 0. 0. 0. 0. 1. 0. 0. 0. 0. 0. 0. 0. 0. 0. 0. 0.]\n",
      "\n",
      "Sample 2:\n",
      "Predicted Labels:  [0 1 1 0 0 1 0 1 0 1 1 0 1 0 1 1 1 1 0 1 0 1 1 1 1 0 1 1 0 1 0 0 1 1 0 0 0\n",
      " 1 1 1 0 1 0 1]\n",
      "Actual Labels:     [0. 0. 0. 0. 0. 0. 1. 0. 0. 0. 0. 0. 1. 0. 0. 0. 0. 0. 0. 0. 0. 0. 0. 0.\n",
      " 0. 0. 0. 0. 0. 0. 0. 0. 0. 0. 0. 0. 0. 0. 0. 0. 0. 0. 0. 0.]\n",
      "\n",
      "Sample 3:\n",
      "Predicted Labels:  [1 0 1 0 0 0 1 1 0 1 0 0 1 0 0 1 1 0 0 1 0 0 1 1 0 0 0 0 1 1 0 0 1 0 0 1 0\n",
      " 0 0 0 0 1 1 1]\n",
      "Actual Labels:     [0. 1. 0. 0. 0. 0. 0. 1. 0. 0. 1. 0. 0. 1. 0. 0. 0. 0. 0. 0. 0. 0. 0. 0.\n",
      " 1. 0. 0. 0. 1. 1. 0. 1. 0. 0. 0. 0. 1. 0. 1. 0. 0. 0. 0. 1.]\n",
      "\n",
      "Sample 4:\n",
      "Predicted Labels:  [1 0 1 0 0 0 1 1 0 1 0 0 1 0 1 1 1 0 0 1 0 1 1 1 0 0 0 1 1 1 1 0 1 0 0 1 0\n",
      " 0 1 0 0 1 1 1]\n",
      "Actual Labels:     [0. 0. 1. 1. 0. 0. 0. 0. 0. 0. 0. 0. 0. 0. 0. 0. 1. 0. 0. 0. 0. 0. 0. 0.\n",
      " 0. 0. 0. 0. 0. 0. 0. 0. 0. 0. 0. 0. 0. 0. 0. 0. 0. 0. 0. 0.]\n",
      "\n",
      "Sample 5:\n",
      "Predicted Labels:  [1 0 1 0 0 0 1 1 0 1 1 0 1 0 1 1 1 0 1 1 0 1 1 1 0 0 0 1 1 1 1 0 1 0 0 1 0\n",
      " 0 1 1 0 1 1 1]\n",
      "Actual Labels:     [0. 0. 0. 0. 0. 0. 0. 0. 0. 0. 0. 0. 1. 0. 0. 0. 0. 0. 0. 0. 0. 0. 0. 0.\n",
      " 0. 0. 0. 1. 0. 0. 0. 0. 1. 0. 0. 0. 0. 1. 0. 0. 0. 0. 0. 0.]\n",
      "\n"
     ]
    }
   ],
   "source": [
    "for i in range(num_samples):\n",
    "    print(f\"Sample {i+1}:\")\n",
    "    print(\"Predicted Labels: \", predictions[i])\n",
    "    print(\"Actual Labels:    \", labels[i])\n",
    "    print()"
   ]
  }
 ],
 "metadata": {
  "colab": {
   "provenance": []
  },
  "kernelspec": {
   "display_name": "Python 3",
   "language": "python",
   "name": "python3"
  },
  "language_info": {
   "codemirror_mode": {
    "name": "ipython",
    "version": 3
   },
   "file_extension": ".py",
   "mimetype": "text/x-python",
   "name": "python",
   "nbconvert_exporter": "python",
   "pygments_lexer": "ipython3",
   "version": "3.7.3"
  }
 },
 "nbformat": 4,
 "nbformat_minor": 5
}
